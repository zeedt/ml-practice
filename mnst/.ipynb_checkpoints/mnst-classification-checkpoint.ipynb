{
 "cells": [
  {
   "cell_type": "code",
   "execution_count": 1,
   "id": "7dea18f0",
   "metadata": {},
   "outputs": [],
   "source": [
    "import pandas as pd\n",
    "from tensorflow import keras\n",
    "from keras import models\n",
    "from keras import layers\n",
    "from keras.models import Sequential\n",
    "from keras.layers import Dense, Dropout\n",
    "from sklearn.model_selection import train_test_split\n",
    "from keras.utils.np_utils import to_categorical\n",
    "import numpy as np\n",
    "import csv\n",
    "import matplotlib.pyplot as plt"
   ]
  },
  {
   "cell_type": "code",
   "execution_count": 2,
   "id": "ee79576b",
   "metadata": {},
   "outputs": [],
   "source": [
    "def plot_graph(validation_data, training_data, graph_type):\n",
    "    plt.clf()\n",
    "    epochs = range(1, len(training_data) + 1)\n",
    "    plt.plot(epochs, training_data, 'r', label='Training '+graph_type)\n",
    "    plt.plot(epochs, validation_data, 'b', label='Validation '+graph_type)\n",
    "    plt.title('Training and validation '+graph_type)\n",
    "    plt.xlabel('Epochs')\n",
    "    plt.ylabel(graph_type)\n",
    "    plt.legend()\n",
    "    plt.show()"
   ]
  },
  {
   "cell_type": "code",
   "execution_count": 3,
   "id": "55623591",
   "metadata": {},
   "outputs": [],
   "source": [
    "df = pd.read_csv('./train.csv')"
   ]
  },
  {
   "cell_type": "code",
   "execution_count": 4,
   "id": "0cbd71dd",
   "metadata": {},
   "outputs": [
    {
     "data": {
      "text/html": [
       "<div>\n",
       "<style scoped>\n",
       "    .dataframe tbody tr th:only-of-type {\n",
       "        vertical-align: middle;\n",
       "    }\n",
       "\n",
       "    .dataframe tbody tr th {\n",
       "        vertical-align: top;\n",
       "    }\n",
       "\n",
       "    .dataframe thead th {\n",
       "        text-align: right;\n",
       "    }\n",
       "</style>\n",
       "<table border=\"1\" class=\"dataframe\">\n",
       "  <thead>\n",
       "    <tr style=\"text-align: right;\">\n",
       "      <th></th>\n",
       "      <th>label</th>\n",
       "      <th>pixel0</th>\n",
       "      <th>pixel1</th>\n",
       "      <th>pixel2</th>\n",
       "      <th>pixel3</th>\n",
       "      <th>pixel4</th>\n",
       "      <th>pixel5</th>\n",
       "      <th>pixel6</th>\n",
       "      <th>pixel7</th>\n",
       "      <th>pixel8</th>\n",
       "      <th>...</th>\n",
       "      <th>pixel774</th>\n",
       "      <th>pixel775</th>\n",
       "      <th>pixel776</th>\n",
       "      <th>pixel777</th>\n",
       "      <th>pixel778</th>\n",
       "      <th>pixel779</th>\n",
       "      <th>pixel780</th>\n",
       "      <th>pixel781</th>\n",
       "      <th>pixel782</th>\n",
       "      <th>pixel783</th>\n",
       "    </tr>\n",
       "  </thead>\n",
       "  <tbody>\n",
       "    <tr>\n",
       "      <th>0</th>\n",
       "      <td>1</td>\n",
       "      <td>0</td>\n",
       "      <td>0</td>\n",
       "      <td>0</td>\n",
       "      <td>0</td>\n",
       "      <td>0</td>\n",
       "      <td>0</td>\n",
       "      <td>0</td>\n",
       "      <td>0</td>\n",
       "      <td>0</td>\n",
       "      <td>...</td>\n",
       "      <td>0</td>\n",
       "      <td>0</td>\n",
       "      <td>0</td>\n",
       "      <td>0</td>\n",
       "      <td>0</td>\n",
       "      <td>0</td>\n",
       "      <td>0</td>\n",
       "      <td>0</td>\n",
       "      <td>0</td>\n",
       "      <td>0</td>\n",
       "    </tr>\n",
       "    <tr>\n",
       "      <th>1</th>\n",
       "      <td>0</td>\n",
       "      <td>0</td>\n",
       "      <td>0</td>\n",
       "      <td>0</td>\n",
       "      <td>0</td>\n",
       "      <td>0</td>\n",
       "      <td>0</td>\n",
       "      <td>0</td>\n",
       "      <td>0</td>\n",
       "      <td>0</td>\n",
       "      <td>...</td>\n",
       "      <td>0</td>\n",
       "      <td>0</td>\n",
       "      <td>0</td>\n",
       "      <td>0</td>\n",
       "      <td>0</td>\n",
       "      <td>0</td>\n",
       "      <td>0</td>\n",
       "      <td>0</td>\n",
       "      <td>0</td>\n",
       "      <td>0</td>\n",
       "    </tr>\n",
       "    <tr>\n",
       "      <th>2</th>\n",
       "      <td>1</td>\n",
       "      <td>0</td>\n",
       "      <td>0</td>\n",
       "      <td>0</td>\n",
       "      <td>0</td>\n",
       "      <td>0</td>\n",
       "      <td>0</td>\n",
       "      <td>0</td>\n",
       "      <td>0</td>\n",
       "      <td>0</td>\n",
       "      <td>...</td>\n",
       "      <td>0</td>\n",
       "      <td>0</td>\n",
       "      <td>0</td>\n",
       "      <td>0</td>\n",
       "      <td>0</td>\n",
       "      <td>0</td>\n",
       "      <td>0</td>\n",
       "      <td>0</td>\n",
       "      <td>0</td>\n",
       "      <td>0</td>\n",
       "    </tr>\n",
       "    <tr>\n",
       "      <th>3</th>\n",
       "      <td>4</td>\n",
       "      <td>0</td>\n",
       "      <td>0</td>\n",
       "      <td>0</td>\n",
       "      <td>0</td>\n",
       "      <td>0</td>\n",
       "      <td>0</td>\n",
       "      <td>0</td>\n",
       "      <td>0</td>\n",
       "      <td>0</td>\n",
       "      <td>...</td>\n",
       "      <td>0</td>\n",
       "      <td>0</td>\n",
       "      <td>0</td>\n",
       "      <td>0</td>\n",
       "      <td>0</td>\n",
       "      <td>0</td>\n",
       "      <td>0</td>\n",
       "      <td>0</td>\n",
       "      <td>0</td>\n",
       "      <td>0</td>\n",
       "    </tr>\n",
       "    <tr>\n",
       "      <th>4</th>\n",
       "      <td>0</td>\n",
       "      <td>0</td>\n",
       "      <td>0</td>\n",
       "      <td>0</td>\n",
       "      <td>0</td>\n",
       "      <td>0</td>\n",
       "      <td>0</td>\n",
       "      <td>0</td>\n",
       "      <td>0</td>\n",
       "      <td>0</td>\n",
       "      <td>...</td>\n",
       "      <td>0</td>\n",
       "      <td>0</td>\n",
       "      <td>0</td>\n",
       "      <td>0</td>\n",
       "      <td>0</td>\n",
       "      <td>0</td>\n",
       "      <td>0</td>\n",
       "      <td>0</td>\n",
       "      <td>0</td>\n",
       "      <td>0</td>\n",
       "    </tr>\n",
       "    <tr>\n",
       "      <th>...</th>\n",
       "      <td>...</td>\n",
       "      <td>...</td>\n",
       "      <td>...</td>\n",
       "      <td>...</td>\n",
       "      <td>...</td>\n",
       "      <td>...</td>\n",
       "      <td>...</td>\n",
       "      <td>...</td>\n",
       "      <td>...</td>\n",
       "      <td>...</td>\n",
       "      <td>...</td>\n",
       "      <td>...</td>\n",
       "      <td>...</td>\n",
       "      <td>...</td>\n",
       "      <td>...</td>\n",
       "      <td>...</td>\n",
       "      <td>...</td>\n",
       "      <td>...</td>\n",
       "      <td>...</td>\n",
       "      <td>...</td>\n",
       "      <td>...</td>\n",
       "    </tr>\n",
       "    <tr>\n",
       "      <th>41995</th>\n",
       "      <td>0</td>\n",
       "      <td>0</td>\n",
       "      <td>0</td>\n",
       "      <td>0</td>\n",
       "      <td>0</td>\n",
       "      <td>0</td>\n",
       "      <td>0</td>\n",
       "      <td>0</td>\n",
       "      <td>0</td>\n",
       "      <td>0</td>\n",
       "      <td>...</td>\n",
       "      <td>0</td>\n",
       "      <td>0</td>\n",
       "      <td>0</td>\n",
       "      <td>0</td>\n",
       "      <td>0</td>\n",
       "      <td>0</td>\n",
       "      <td>0</td>\n",
       "      <td>0</td>\n",
       "      <td>0</td>\n",
       "      <td>0</td>\n",
       "    </tr>\n",
       "    <tr>\n",
       "      <th>41996</th>\n",
       "      <td>1</td>\n",
       "      <td>0</td>\n",
       "      <td>0</td>\n",
       "      <td>0</td>\n",
       "      <td>0</td>\n",
       "      <td>0</td>\n",
       "      <td>0</td>\n",
       "      <td>0</td>\n",
       "      <td>0</td>\n",
       "      <td>0</td>\n",
       "      <td>...</td>\n",
       "      <td>0</td>\n",
       "      <td>0</td>\n",
       "      <td>0</td>\n",
       "      <td>0</td>\n",
       "      <td>0</td>\n",
       "      <td>0</td>\n",
       "      <td>0</td>\n",
       "      <td>0</td>\n",
       "      <td>0</td>\n",
       "      <td>0</td>\n",
       "    </tr>\n",
       "    <tr>\n",
       "      <th>41997</th>\n",
       "      <td>7</td>\n",
       "      <td>0</td>\n",
       "      <td>0</td>\n",
       "      <td>0</td>\n",
       "      <td>0</td>\n",
       "      <td>0</td>\n",
       "      <td>0</td>\n",
       "      <td>0</td>\n",
       "      <td>0</td>\n",
       "      <td>0</td>\n",
       "      <td>...</td>\n",
       "      <td>0</td>\n",
       "      <td>0</td>\n",
       "      <td>0</td>\n",
       "      <td>0</td>\n",
       "      <td>0</td>\n",
       "      <td>0</td>\n",
       "      <td>0</td>\n",
       "      <td>0</td>\n",
       "      <td>0</td>\n",
       "      <td>0</td>\n",
       "    </tr>\n",
       "    <tr>\n",
       "      <th>41998</th>\n",
       "      <td>6</td>\n",
       "      <td>0</td>\n",
       "      <td>0</td>\n",
       "      <td>0</td>\n",
       "      <td>0</td>\n",
       "      <td>0</td>\n",
       "      <td>0</td>\n",
       "      <td>0</td>\n",
       "      <td>0</td>\n",
       "      <td>0</td>\n",
       "      <td>...</td>\n",
       "      <td>0</td>\n",
       "      <td>0</td>\n",
       "      <td>0</td>\n",
       "      <td>0</td>\n",
       "      <td>0</td>\n",
       "      <td>0</td>\n",
       "      <td>0</td>\n",
       "      <td>0</td>\n",
       "      <td>0</td>\n",
       "      <td>0</td>\n",
       "    </tr>\n",
       "    <tr>\n",
       "      <th>41999</th>\n",
       "      <td>9</td>\n",
       "      <td>0</td>\n",
       "      <td>0</td>\n",
       "      <td>0</td>\n",
       "      <td>0</td>\n",
       "      <td>0</td>\n",
       "      <td>0</td>\n",
       "      <td>0</td>\n",
       "      <td>0</td>\n",
       "      <td>0</td>\n",
       "      <td>...</td>\n",
       "      <td>0</td>\n",
       "      <td>0</td>\n",
       "      <td>0</td>\n",
       "      <td>0</td>\n",
       "      <td>0</td>\n",
       "      <td>0</td>\n",
       "      <td>0</td>\n",
       "      <td>0</td>\n",
       "      <td>0</td>\n",
       "      <td>0</td>\n",
       "    </tr>\n",
       "  </tbody>\n",
       "</table>\n",
       "<p>42000 rows × 785 columns</p>\n",
       "</div>"
      ],
      "text/plain": [
       "       label  pixel0  pixel1  pixel2  pixel3  pixel4  pixel5  pixel6  pixel7  \\\n",
       "0          1       0       0       0       0       0       0       0       0   \n",
       "1          0       0       0       0       0       0       0       0       0   \n",
       "2          1       0       0       0       0       0       0       0       0   \n",
       "3          4       0       0       0       0       0       0       0       0   \n",
       "4          0       0       0       0       0       0       0       0       0   \n",
       "...      ...     ...     ...     ...     ...     ...     ...     ...     ...   \n",
       "41995      0       0       0       0       0       0       0       0       0   \n",
       "41996      1       0       0       0       0       0       0       0       0   \n",
       "41997      7       0       0       0       0       0       0       0       0   \n",
       "41998      6       0       0       0       0       0       0       0       0   \n",
       "41999      9       0       0       0       0       0       0       0       0   \n",
       "\n",
       "       pixel8  ...  pixel774  pixel775  pixel776  pixel777  pixel778  \\\n",
       "0           0  ...         0         0         0         0         0   \n",
       "1           0  ...         0         0         0         0         0   \n",
       "2           0  ...         0         0         0         0         0   \n",
       "3           0  ...         0         0         0         0         0   \n",
       "4           0  ...         0         0         0         0         0   \n",
       "...       ...  ...       ...       ...       ...       ...       ...   \n",
       "41995       0  ...         0         0         0         0         0   \n",
       "41996       0  ...         0         0         0         0         0   \n",
       "41997       0  ...         0         0         0         0         0   \n",
       "41998       0  ...         0         0         0         0         0   \n",
       "41999       0  ...         0         0         0         0         0   \n",
       "\n",
       "       pixel779  pixel780  pixel781  pixel782  pixel783  \n",
       "0             0         0         0         0         0  \n",
       "1             0         0         0         0         0  \n",
       "2             0         0         0         0         0  \n",
       "3             0         0         0         0         0  \n",
       "4             0         0         0         0         0  \n",
       "...         ...       ...       ...       ...       ...  \n",
       "41995         0         0         0         0         0  \n",
       "41996         0         0         0         0         0  \n",
       "41997         0         0         0         0         0  \n",
       "41998         0         0         0         0         0  \n",
       "41999         0         0         0         0         0  \n",
       "\n",
       "[42000 rows x 785 columns]"
      ]
     },
     "execution_count": 4,
     "metadata": {},
     "output_type": "execute_result"
    }
   ],
   "source": [
    "df"
   ]
  },
  {
   "cell_type": "code",
   "execution_count": 5,
   "id": "b6141426",
   "metadata": {},
   "outputs": [],
   "source": [
    "pd.set_option(\"display.max_columns\", None)"
   ]
  },
  {
   "cell_type": "code",
   "execution_count": 6,
   "id": "a9bc7b48",
   "metadata": {},
   "outputs": [
    {
     "data": {
      "text/plain": [
       "0"
      ]
     },
     "execution_count": 6,
     "metadata": {},
     "output_type": "execute_result"
    }
   ],
   "source": [
    "df['pixel2'].max()"
   ]
  },
  {
   "cell_type": "code",
   "execution_count": 7,
   "id": "bd327962",
   "metadata": {},
   "outputs": [],
   "source": [
    "Y = df['label']"
   ]
  },
  {
   "cell_type": "code",
   "execution_count": 8,
   "id": "8d506e20",
   "metadata": {},
   "outputs": [],
   "source": [
    "Y = to_categorical(Y)"
   ]
  },
  {
   "cell_type": "code",
   "execution_count": 9,
   "id": "d53c49ea",
   "metadata": {},
   "outputs": [],
   "source": [
    "X = df.drop(columns=['label'])"
   ]
  },
  {
   "cell_type": "code",
   "execution_count": 10,
   "id": "5986368c",
   "metadata": {},
   "outputs": [],
   "source": [
    "X_train, X_test, Y_train, Y_test = train_test_split(X, Y, test_size=0.20, random_state=42)"
   ]
  },
  {
   "cell_type": "code",
   "execution_count": 11,
   "id": "c06ef8fc",
   "metadata": {},
   "outputs": [
    {
     "name": "stderr",
     "output_type": "stream",
     "text": [
      "2022-01-10 21:40:29.343364: I tensorflow/core/platform/cpu_feature_guard.cc:151] This TensorFlow binary is optimized with oneAPI Deep Neural Network Library (oneDNN) to use the following CPU instructions in performance-critical operations:  AVX2 FMA\n",
      "To enable them in other operations, rebuild TensorFlow with the appropriate compiler flags.\n"
     ]
    },
    {
     "name": "stdout",
     "output_type": "stream",
     "text": [
      "Epoch 1/10\n",
      "2100/2100 [==============================] - 4s 2ms/step - loss: 1.3624 - accuracy: 0.7051 - val_loss: 0.5611 - val_accuracy: 0.8565\n",
      "Epoch 2/10\n",
      "2100/2100 [==============================] - 3s 1ms/step - loss: 0.4482 - accuracy: 0.8808 - val_loss: 0.3707 - val_accuracy: 0.9030\n",
      "Epoch 3/10\n",
      "2100/2100 [==============================] - 3s 1ms/step - loss: 0.3276 - accuracy: 0.9124 - val_loss: 0.3926 - val_accuracy: 0.8979\n",
      "Epoch 4/10\n",
      "2100/2100 [==============================] - 3s 1ms/step - loss: 0.2676 - accuracy: 0.9285 - val_loss: 0.2546 - val_accuracy: 0.9340\n",
      "Epoch 5/10\n",
      "2100/2100 [==============================] - 3s 1ms/step - loss: 0.2232 - accuracy: 0.9398 - val_loss: 0.2666 - val_accuracy: 0.9330\n",
      "Epoch 6/10\n",
      "2100/2100 [==============================] - 3s 2ms/step - loss: 0.1937 - accuracy: 0.9475 - val_loss: 0.2197 - val_accuracy: 0.9421\n",
      "Epoch 7/10\n",
      "2100/2100 [==============================] - 3s 1ms/step - loss: 0.1708 - accuracy: 0.9541 - val_loss: 0.2367 - val_accuracy: 0.9418\n",
      "Epoch 8/10\n",
      "2100/2100 [==============================] - 3s 1ms/step - loss: 0.1597 - accuracy: 0.9568 - val_loss: 0.1988 - val_accuracy: 0.9521\n",
      "Epoch 9/10\n",
      "2100/2100 [==============================] - 3s 1ms/step - loss: 0.1437 - accuracy: 0.9604 - val_loss: 0.2017 - val_accuracy: 0.9521\n",
      "Epoch 10/10\n",
      "2100/2100 [==============================] - 3s 1ms/step - loss: 0.1301 - accuracy: 0.9642 - val_loss: 0.2073 - val_accuracy: 0.9542\n"
     ]
    }
   ],
   "source": [
    "model = Sequential()\n",
    "model.add(Dense(units=64, activation='relu', input_shape=(784,)))\n",
    "model.add(Dense(units=32, activation='relu'))\n",
    "model.add(Dense(units=16, activation='relu'))\n",
    "model.add(Dense(units=10, activation='softmax'))\n",
    "model.compile(optimizer='adam', loss='categorical_crossentropy', metrics=['accuracy'])\n",
    "history = model.fit(X_train, Y_train, batch_size=12, validation_split=0.25, epochs=10)"
   ]
  },
  {
   "cell_type": "code",
   "execution_count": 12,
   "id": "83b52a23",
   "metadata": {},
   "outputs": [
    {
     "data": {
      "image/png": "[encoded data removed]",
      "text/plain": [
       "<Figure size 432x288 with 1 Axes>"
      ]
     },
     "metadata": {
      "needs_background": "light"
     },
     "output_type": "display_data"
    },
    {
     "data": {
      "image/png": "[encoded data removed]",
      "text/plain": [
       "<Figure size 432x288 with 1 Axes>"
      ]
     },
     "metadata": {
      "needs_background": "light"
     },
     "output_type": "display_data"
    }
   ],
   "source": [
    "history = history.history\n",
    "plot_graph(history['val_loss'], history['loss'], 'Loss')\n",
    "plot_graph(history['val_accuracy'], history['accuracy'], 'Accuracy ')"
   ]
  },
  {
   "cell_type": "code",
   "execution_count": 13,
   "id": "ad2ca7d7",
   "metadata": {},
   "outputs": [
    {
     "name": "stdout",
     "output_type": "stream",
     "text": [
      "Epoch 1/15\n",
      "2100/2100 [==============================] - 4s 2ms/step - loss: 2.1288 - accuracy: 0.2661 - val_loss: 1.7332 - val_accuracy: 0.3427\n",
      "Epoch 2/15\n",
      "2100/2100 [==============================] - 3s 2ms/step - loss: 1.6001 - accuracy: 0.3753 - val_loss: 1.5321 - val_accuracy: 0.3817\n",
      "Epoch 3/15\n",
      "2100/2100 [==============================] - 3s 1ms/step - loss: 1.1536 - accuracy: 0.5840 - val_loss: 0.6856 - val_accuracy: 0.7768\n",
      "Epoch 4/15\n",
      "2100/2100 [==============================] - 3s 1ms/step - loss: 0.5144 - accuracy: 0.8238 - val_loss: 0.4495 - val_accuracy: 0.8324\n",
      "Epoch 5/15\n",
      "2100/2100 [==============================] - 3s 1ms/step - loss: 0.3907 - accuracy: 0.8491 - val_loss: 0.4150 - val_accuracy: 0.8476\n",
      "Epoch 6/15\n",
      "2100/2100 [==============================] - 3s 1ms/step - loss: 0.3245 - accuracy: 0.9024 - val_loss: 0.3217 - val_accuracy: 0.9213\n",
      "Epoch 7/15\n",
      "2100/2100 [==============================] - 3s 1ms/step - loss: 0.2434 - accuracy: 0.9368 - val_loss: 0.2841 - val_accuracy: 0.9307\n",
      "Epoch 8/15\n",
      "2100/2100 [==============================] - 3s 1ms/step - loss: 0.2011 - accuracy: 0.9465 - val_loss: 0.3279 - val_accuracy: 0.9340\n",
      "Epoch 9/15\n",
      "2100/2100 [==============================] - 3s 1ms/step - loss: 0.1768 - accuracy: 0.9548 - val_loss: 0.2526 - val_accuracy: 0.9381\n",
      "Epoch 10/15\n",
      "2100/2100 [==============================] - 3s 1ms/step - loss: 0.1569 - accuracy: 0.9580 - val_loss: 0.2446 - val_accuracy: 0.9464\n",
      "Epoch 11/15\n",
      "2100/2100 [==============================] - 3s 1ms/step - loss: 0.1465 - accuracy: 0.9617 - val_loss: 0.2717 - val_accuracy: 0.9423\n",
      "Epoch 12/15\n",
      "2100/2100 [==============================] - 3s 1ms/step - loss: 0.1332 - accuracy: 0.9649 - val_loss: 0.2650 - val_accuracy: 0.9523\n",
      "Epoch 13/15\n",
      "2100/2100 [==============================] - 3s 1ms/step - loss: 0.1213 - accuracy: 0.9683 - val_loss: 0.2628 - val_accuracy: 0.9454\n",
      "Epoch 14/15\n",
      "2100/2100 [==============================] - 3s 1ms/step - loss: 0.1178 - accuracy: 0.9708 - val_loss: 0.2470 - val_accuracy: 0.9539\n",
      "Epoch 15/15\n",
      "2100/2100 [==============================] - 3s 1ms/step - loss: 0.1029 - accuracy: 0.9727 - val_loss: 0.2285 - val_accuracy: 0.9567\n"
     ]
    }
   ],
   "source": [
    "model = Sequential()\n",
    "model.add(Dense(units=64, activation='relu', input_shape=(784,)))\n",
    "model.add(Dense(units=32, activation='relu'))\n",
    "model.add(Dense(units=12, activation='relu'))\n",
    "model.add(Dense(units=10, activation='softmax'))\n",
    "model.compile(optimizer='adam', loss='categorical_crossentropy', metrics=['accuracy'])\n",
    "history = model.fit(X_train, Y_train, batch_size=16, validation_data=(X_test, Y_test), epochs=15)"
   ]
  },
  {
   "cell_type": "code",
   "execution_count": 14,
   "id": "72f3b5a0",
   "metadata": {},
   "outputs": [
    {
     "data": {
      "image/png": "[encoded data removed]",
      "text/plain": [
       "<Figure size 432x288 with 1 Axes>"
      ]
     },
     "metadata": {
      "needs_background": "light"
     },
     "output_type": "display_data"
    },
    {
     "data": {
      "image/png": "[encoded data removed]",
      "text/plain": [
       "<Figure size 432x288 with 1 Axes>"
      ]
     },
     "metadata": {
      "needs_background": "light"
     },
     "output_type": "display_data"
    }
   ],
   "source": [
    "history = history.history\n",
    "plot_graph(history['val_loss'], history['loss'], 'Loss')\n",
    "plot_graph(history['val_accuracy'], history['accuracy'], 'Accuracy ')"
   ]
  },
  {
   "cell_type": "code",
   "execution_count": null,
   "id": "6f6acb99",
   "metadata": {},
   "outputs": [],
   "source": []
  },
  {
   "cell_type": "code",
   "execution_count": 15,
   "id": "db68044c",
   "metadata": {},
   "outputs": [
    {
     "name": "stdout",
     "output_type": "stream",
     "text": [
      "263/263 [==============================] - 0s 1ms/step - loss: 0.2285 - accuracy: 0.9567\n"
     ]
    },
    {
     "data": {
      "text/plain": [
       "[0.22848071157932281, 0.9566666483879089]"
      ]
     },
     "execution_count": 15,
     "metadata": {},
     "output_type": "execute_result"
    }
   ],
   "source": [
    "model.evaluate(X_test, Y_test)"
   ]
  },
  {
   "cell_type": "code",
   "execution_count": 16,
   "id": "d6d4e566",
   "metadata": {},
   "outputs": [],
   "source": [
    "prediction_data = pd.read_csv('./test.csv')"
   ]
  },
  {
   "cell_type": "code",
   "execution_count": 17,
   "id": "d412f680",
   "metadata": {},
   "outputs": [],
   "source": [
    "predicted_values = model.predict(prediction_data)"
   ]
  },
  {
   "cell_type": "markdown",
   "id": "c6002a60",
   "metadata": {},
   "source": [
    "#### Write predicted values to file"
   ]
  },
  {
   "cell_type": "code",
   "execution_count": 18,
   "id": "7ab9b082",
   "metadata": {},
   "outputs": [
    {
     "data": {
      "text/plain": [
       "28000"
      ]
     },
     "execution_count": 18,
     "metadata": {},
     "output_type": "execute_result"
    }
   ],
   "source": [
    "len(predicted_values)"
   ]
  },
  {
   "cell_type": "code",
   "execution_count": 19,
   "id": "41115438",
   "metadata": {},
   "outputs": [],
   "source": [
    "counter = 0\n",
    "with (open('./digit-prediction1.csv', 'w')) as file:\n",
    "    writer = csv.writer(file)\n",
    "    writer.writerow(['ImageId', 'Label'])\n",
    "    for i in range(len(predicted_values)):\n",
    "        counter = counter + 1\n",
    "        writer.writerow([counter, np.argmax(predicted_values[i])])"
   ]
  },
  {
   "cell_type": "code",
   "execution_count": 20,
   "id": "4f1ec539",
   "metadata": {},
   "outputs": [
    {
     "data": {
      "text/plain": [
       "array([[0., 0., 0., ..., 0., 1., 0.],\n",
       "       [0., 1., 0., ..., 0., 0., 0.],\n",
       "       [0., 0., 0., ..., 0., 0., 1.],\n",
       "       ...,\n",
       "       [0., 0., 0., ..., 0., 0., 0.],\n",
       "       [1., 0., 0., ..., 0., 0., 0.],\n",
       "       [0., 0., 0., ..., 0., 0., 1.]], dtype=float32)"
      ]
     },
     "execution_count": 20,
     "metadata": {},
     "output_type": "execute_result"
    }
   ],
   "source": [
    "Y_test"
   ]
  },
  {
   "cell_type": "code",
   "execution_count": 21,
   "id": "30542190",
   "metadata": {},
   "outputs": [
    {
     "name": "stdout",
     "output_type": "stream",
     "text": [
      "Epoch 1/40\n",
      "525/525 [==============================] - 2s 3ms/step - loss: 2.8210 - accuracy: 0.6374 - val_loss: 0.7341 - val_accuracy: 0.7913\n",
      "Epoch 2/40\n",
      "525/525 [==============================] - 1s 2ms/step - loss: 0.5754 - accuracy: 0.8399 - val_loss: 0.4869 - val_accuracy: 0.8627\n",
      "Epoch 3/40\n",
      "525/525 [==============================] - 1s 2ms/step - loss: 0.3830 - accuracy: 0.8944 - val_loss: 0.3708 - val_accuracy: 0.8943\n",
      "Epoch 4/40\n",
      "525/525 [==============================] - 1s 2ms/step - loss: 0.2884 - accuracy: 0.9186 - val_loss: 0.3330 - val_accuracy: 0.9118\n",
      "Epoch 5/40\n",
      "525/525 [==============================] - 1s 2ms/step - loss: 0.2334 - accuracy: 0.9332 - val_loss: 0.2695 - val_accuracy: 0.9223\n",
      "Epoch 6/40\n",
      "525/525 [==============================] - 1s 2ms/step - loss: 0.1969 - accuracy: 0.9425 - val_loss: 0.2559 - val_accuracy: 0.9285\n",
      "Epoch 7/40\n",
      "525/525 [==============================] - 1s 2ms/step - loss: 0.1740 - accuracy: 0.9496 - val_loss: 0.2551 - val_accuracy: 0.9345\n",
      "Epoch 8/40\n",
      "525/525 [==============================] - 1s 2ms/step - loss: 0.1563 - accuracy: 0.9534 - val_loss: 0.2513 - val_accuracy: 0.9344\n",
      "Epoch 9/40\n",
      "525/525 [==============================] - 1s 2ms/step - loss: 0.1437 - accuracy: 0.9572 - val_loss: 0.2210 - val_accuracy: 0.9407\n",
      "Epoch 10/40\n",
      "525/525 [==============================] - 1s 2ms/step - loss: 0.1216 - accuracy: 0.9652 - val_loss: 0.2259 - val_accuracy: 0.9444\n",
      "Epoch 11/40\n",
      "525/525 [==============================] - 1s 2ms/step - loss: 0.1165 - accuracy: 0.9649 - val_loss: 0.2037 - val_accuracy: 0.9485\n",
      "Epoch 12/40\n",
      "525/525 [==============================] - 1s 2ms/step - loss: 0.1092 - accuracy: 0.9683 - val_loss: 0.2336 - val_accuracy: 0.9417\n",
      "Epoch 13/40\n",
      "525/525 [==============================] - 1s 2ms/step - loss: 0.0987 - accuracy: 0.9699 - val_loss: 0.2071 - val_accuracy: 0.9480\n",
      "Epoch 14/40\n",
      "525/525 [==============================] - 1s 2ms/step - loss: 0.0866 - accuracy: 0.9742 - val_loss: 0.2492 - val_accuracy: 0.9439\n",
      "Epoch 15/40\n",
      "525/525 [==============================] - 1s 2ms/step - loss: 0.0901 - accuracy: 0.9737 - val_loss: 0.2138 - val_accuracy: 0.9474\n",
      "Epoch 16/40\n",
      "525/525 [==============================] - 1s 2ms/step - loss: 0.0799 - accuracy: 0.9754 - val_loss: 0.2111 - val_accuracy: 0.9532\n",
      "Epoch 17/40\n",
      "525/525 [==============================] - 1s 2ms/step - loss: 0.0749 - accuracy: 0.9777 - val_loss: 0.2026 - val_accuracy: 0.9554\n",
      "Epoch 18/40\n",
      "525/525 [==============================] - 1s 2ms/step - loss: 0.0684 - accuracy: 0.9787 - val_loss: 0.2262 - val_accuracy: 0.9514\n",
      "Epoch 19/40\n",
      "525/525 [==============================] - 1s 2ms/step - loss: 0.0646 - accuracy: 0.9802 - val_loss: 0.1995 - val_accuracy: 0.9570\n",
      "Epoch 20/40\n",
      "525/525 [==============================] - 1s 2ms/step - loss: 0.0652 - accuracy: 0.9801 - val_loss: 0.2181 - val_accuracy: 0.9529\n",
      "Epoch 21/40\n",
      "525/525 [==============================] - 1s 2ms/step - loss: 0.0552 - accuracy: 0.9829 - val_loss: 0.2049 - val_accuracy: 0.9581\n",
      "Epoch 22/40\n",
      "525/525 [==============================] - 1s 2ms/step - loss: 0.0552 - accuracy: 0.9830 - val_loss: 0.2462 - val_accuracy: 0.9515\n",
      "Epoch 23/40\n",
      "525/525 [==============================] - 1s 2ms/step - loss: 0.0533 - accuracy: 0.9832 - val_loss: 0.1918 - val_accuracy: 0.9600\n",
      "Epoch 24/40\n",
      "525/525 [==============================] - 1s 2ms/step - loss: 0.0505 - accuracy: 0.9848 - val_loss: 0.2307 - val_accuracy: 0.9554\n",
      "Epoch 25/40\n",
      "525/525 [==============================] - 1s 2ms/step - loss: 0.0448 - accuracy: 0.9862 - val_loss: 0.2330 - val_accuracy: 0.9556\n",
      "Epoch 26/40\n",
      "525/525 [==============================] - 1s 2ms/step - loss: 0.0427 - accuracy: 0.9874 - val_loss: 0.2672 - val_accuracy: 0.94820s - loss: 0.0416 - ac\n",
      "Epoch 27/40\n",
      "525/525 [==============================] - 1s 2ms/step - loss: 0.0473 - accuracy: 0.9860 - val_loss: 0.2232 - val_accuracy: 0.9587\n",
      "Epoch 28/40\n",
      "525/525 [==============================] - 1s 2ms/step - loss: 0.0391 - accuracy: 0.9879 - val_loss: 0.2333 - val_accuracy: 0.9581\n",
      "Epoch 29/40\n",
      "525/525 [==============================] - 1s 2ms/step - loss: 0.0385 - accuracy: 0.9877 - val_loss: 0.2285 - val_accuracy: 0.9595\n",
      "Epoch 30/40\n",
      "525/525 [==============================] - 1s 2ms/step - loss: 0.0390 - accuracy: 0.9876 - val_loss: 0.2246 - val_accuracy: 0.9585\n",
      "Epoch 31/40\n",
      "525/525 [==============================] - 1s 2ms/step - loss: 0.0346 - accuracy: 0.9892 - val_loss: 0.2589 - val_accuracy: 0.9576\n",
      "Epoch 32/40\n",
      "525/525 [==============================] - 1s 2ms/step - loss: 0.0369 - accuracy: 0.9890 - val_loss: 0.2441 - val_accuracy: 0.9575\n",
      "Epoch 33/40\n",
      "525/525 [==============================] - 1s 2ms/step - loss: 0.0298 - accuracy: 0.9905 - val_loss: 0.2652 - val_accuracy: 0.9579\n",
      "Epoch 34/40\n",
      "525/525 [==============================] - 1s 2ms/step - loss: 0.0293 - accuracy: 0.9909 - val_loss: 0.2592 - val_accuracy: 0.9594\n",
      "Epoch 35/40\n",
      "525/525 [==============================] - 1s 2ms/step - loss: 0.0342 - accuracy: 0.9897 - val_loss: 0.2667 - val_accuracy: 0.9560\n",
      "Epoch 36/40\n",
      "525/525 [==============================] - 1s 2ms/step - loss: 0.0316 - accuracy: 0.9900 - val_loss: 0.2435 - val_accuracy: 0.9577\n",
      "Epoch 37/40\n",
      "525/525 [==============================] - 1s 2ms/step - loss: 0.0342 - accuracy: 0.9903 - val_loss: 0.2477 - val_accuracy: 0.9611\n",
      "Epoch 38/40\n",
      "525/525 [==============================] - 1s 2ms/step - loss: 0.0267 - accuracy: 0.9916 - val_loss: 0.2824 - val_accuracy: 0.9598\n",
      "Epoch 39/40\n",
      "525/525 [==============================] - 1s 2ms/step - loss: 0.0344 - accuracy: 0.9896 - val_loss: 0.2558 - val_accuracy: 0.9608\n",
      "Epoch 40/40\n",
      "525/525 [==============================] - 1s 2ms/step - loss: 0.0233 - accuracy: 0.9927 - val_loss: 0.2455 - val_accuracy: 0.9620\n"
     ]
    }
   ],
   "source": [
    "model = Sequential()\n",
    "model.add(Dense(units=64, activation='relu', input_shape=(784,)))\n",
    "model.add(Dense(units=32, activation='relu'))\n",
    "model.add(Dense(units=16, activation='relu'))\n",
    "model.add(Dense(units=10, activation='softmax'))\n",
    "model.compile(optimizer='nadam', loss='categorical_crossentropy', metrics=['accuracy'])\n",
    "history = model.fit(X_train, Y_train, batch_size=64, validation_data=(X_test, Y_test), epochs=40)"
   ]
  },
  {
   "cell_type": "code",
   "execution_count": 22,
   "id": "38e62cf0",
   "metadata": {},
   "outputs": [
    {
     "data": {
      "image/png": "[encoded data removed]",
      "text/plain": [
       "<Figure size 432x288 with 1 Axes>"
      ]
     },
     "metadata": {
      "needs_background": "light"
     },
     "output_type": "display_data"
    },
    {
     "data": {
      "image/png": "[encoded data removed]",
      "text/plain": [
       "<Figure size 432x288 with 1 Axes>"
      ]
     },
     "metadata": {
      "needs_background": "light"
     },
     "output_type": "display_data"
    }
   ],
   "source": [
    "history = history.history\n",
    "plot_graph(history['val_loss'], history['loss'], 'Loss')\n",
    "plot_graph(history['val_accuracy'], history['accuracy'], 'Accuracy ')"
   ]
  },
  {
   "cell_type": "code",
   "execution_count": 23,
   "id": "35ea99cc",
   "metadata": {},
   "outputs": [],
   "source": [
    "predicted_values = model.predict(prediction_data)\n",
    "counter = 0\n",
    "with (open('./digit-prediction2.csv', 'w')) as file:\n",
    "    writer = csv.writer(file)\n",
    "    writer.writerow(['ImageId', 'Label'])\n",
    "    for i in range(len(predicted_values)):\n",
    "        counter = counter + 1\n",
    "        writer.writerow([counter, np.argmax(predicted_values[i])])"
   ]
  },
  {
   "cell_type": "code",
   "execution_count": 24,
   "id": "2cc2f66c",
   "metadata": {},
   "outputs": [
    {
     "name": "stdout",
     "output_type": "stream",
     "text": [
      "Epoch 1/30\n",
      "1050/1050 [==============================] - 3s 2ms/step - loss: 1.4731 - accuracy: 0.6277 - val_loss: 0.5881 - val_accuracy: 0.8260\n",
      "Epoch 2/30\n",
      "1050/1050 [==============================] - 2s 2ms/step - loss: 0.4844 - accuracy: 0.8653 - val_loss: 0.3906 - val_accuracy: 0.8817\n",
      "Epoch 3/30\n",
      "1050/1050 [==============================] - 2s 2ms/step - loss: 0.3139 - accuracy: 0.9130 - val_loss: 0.3339 - val_accuracy: 0.9124\n",
      "Epoch 4/30\n",
      "1050/1050 [==============================] - 2s 2ms/step - loss: 0.2445 - accuracy: 0.9316 - val_loss: 0.2671 - val_accuracy: 0.9321\n",
      "Epoch 5/30\n",
      "1050/1050 [==============================] - 2s 2ms/step - loss: 0.1999 - accuracy: 0.9447 - val_loss: 0.2103 - val_accuracy: 0.9437\n",
      "Epoch 6/30\n",
      "1050/1050 [==============================] - 2s 2ms/step - loss: 0.1649 - accuracy: 0.9529 - val_loss: 0.2050 - val_accuracy: 0.9419\n",
      "Epoch 7/30\n",
      "1050/1050 [==============================] - 2s 2ms/step - loss: 0.1437 - accuracy: 0.9583 - val_loss: 0.1965 - val_accuracy: 0.9473\n",
      "Epoch 8/30\n",
      "1050/1050 [==============================] - 2s 2ms/step - loss: 0.1236 - accuracy: 0.9648 - val_loss: 0.1817 - val_accuracy: 0.9507\n",
      "Epoch 9/30\n",
      "1050/1050 [==============================] - 2s 2ms/step - loss: 0.1151 - accuracy: 0.9661 - val_loss: 0.1980 - val_accuracy: 0.9536\n",
      "Epoch 10/30\n",
      "1050/1050 [==============================] - 2s 2ms/step - loss: 0.1039 - accuracy: 0.9695 - val_loss: 0.1701 - val_accuracy: 0.9583\n",
      "Epoch 11/30\n",
      "1050/1050 [==============================] - 2s 2ms/step - loss: 0.0906 - accuracy: 0.9735 - val_loss: 0.1678 - val_accuracy: 0.9585\n",
      "Epoch 12/30\n",
      "1050/1050 [==============================] - 2s 2ms/step - loss: 0.0776 - accuracy: 0.9775 - val_loss: 0.1870 - val_accuracy: 0.9574\n",
      "Epoch 13/30\n",
      "1050/1050 [==============================] - 2s 2ms/step - loss: 0.0758 - accuracy: 0.9779 - val_loss: 0.1700 - val_accuracy: 0.9620\n",
      "Epoch 14/30\n",
      "1050/1050 [==============================] - 2s 2ms/step - loss: 0.0693 - accuracy: 0.9787 - val_loss: 0.1911 - val_accuracy: 0.9606\n",
      "Epoch 15/30\n",
      "1050/1050 [==============================] - 2s 2ms/step - loss: 0.0659 - accuracy: 0.9801 - val_loss: 0.1881 - val_accuracy: 0.9607\n",
      "Epoch 16/30\n",
      "1050/1050 [==============================] - 2s 2ms/step - loss: 0.0637 - accuracy: 0.9818 - val_loss: 0.1684 - val_accuracy: 0.9631\n",
      "Epoch 17/30\n",
      "1050/1050 [==============================] - 2s 2ms/step - loss: 0.0586 - accuracy: 0.9833 - val_loss: 0.1702 - val_accuracy: 0.9637\n",
      "Epoch 18/30\n",
      "1050/1050 [==============================] - 2s 2ms/step - loss: 0.0543 - accuracy: 0.9836 - val_loss: 0.1920 - val_accuracy: 0.9619\n",
      "Epoch 19/30\n",
      "1050/1050 [==============================] - 2s 2ms/step - loss: 0.0559 - accuracy: 0.9834 - val_loss: 0.1671 - val_accuracy: 0.9646\n",
      "Epoch 20/30\n",
      "1050/1050 [==============================] - 2s 2ms/step - loss: 0.0479 - accuracy: 0.9860 - val_loss: 0.1702 - val_accuracy: 0.9624\n",
      "Epoch 21/30\n",
      "1050/1050 [==============================] - 2s 2ms/step - loss: 0.0461 - accuracy: 0.9872 - val_loss: 0.2310 - val_accuracy: 0.9568\n",
      "Epoch 22/30\n",
      "1050/1050 [==============================] - 2s 2ms/step - loss: 0.0429 - accuracy: 0.9875 - val_loss: 0.2120 - val_accuracy: 0.9636\n",
      "Epoch 23/30\n",
      "1050/1050 [==============================] - 2s 2ms/step - loss: 0.0397 - accuracy: 0.9889 - val_loss: 0.2259 - val_accuracy: 0.9621\n",
      "Epoch 24/30\n",
      "1050/1050 [==============================] - 2s 2ms/step - loss: 0.0412 - accuracy: 0.9884 - val_loss: 0.1828 - val_accuracy: 0.9644\n",
      "Epoch 25/30\n",
      "1050/1050 [==============================] - 2s 2ms/step - loss: 0.0417 - accuracy: 0.9875 - val_loss: 0.2246 - val_accuracy: 0.9629\n",
      "Epoch 26/30\n",
      "1050/1050 [==============================] - 2s 2ms/step - loss: 0.0375 - accuracy: 0.9891 - val_loss: 0.2069 - val_accuracy: 0.9657\n",
      "Epoch 27/30\n",
      "1050/1050 [==============================] - 2s 2ms/step - loss: 0.0324 - accuracy: 0.9905 - val_loss: 0.2001 - val_accuracy: 0.9626\n",
      "Epoch 28/30\n",
      "1050/1050 [==============================] - 2s 2ms/step - loss: 0.0405 - accuracy: 0.9885 - val_loss: 0.2231 - val_accuracy: 0.9657\n",
      "Epoch 29/30\n",
      "1050/1050 [==============================] - 2s 2ms/step - loss: 0.0308 - accuracy: 0.9912 - val_loss: 0.2129 - val_accuracy: 0.9596\n",
      "Epoch 30/30\n",
      "1050/1050 [==============================] - 2s 2ms/step - loss: 0.0358 - accuracy: 0.9901 - val_loss: 0.2187 - val_accuracy: 0.9632\n"
     ]
    }
   ],
   "source": [
    "model = Sequential()\n",
    "model.add(Dense(units=64, activation='relu', input_shape=(784,)))\n",
    "model.add(Dense(units=32, activation='relu'))\n",
    "model.add(Dense(units=16, activation='relu'))\n",
    "model.add(Dense(units=10, activation='softmax'))\n",
    "model.compile(optimizer='nadam', loss='categorical_crossentropy', metrics=['accuracy'])\n",
    "history = model.fit(X_train, Y_train, batch_size=32, validation_data=(X_test, Y_test), epochs=30)"
   ]
  },
  {
   "cell_type": "code",
   "execution_count": 25,
   "id": "2131b77d",
   "metadata": {},
   "outputs": [
    {
     "data": {
      "image/png": "[encoded data removed]",
      "text/plain": [
       "<Figure size 432x288 with 1 Axes>"
      ]
     },
     "metadata": {
      "needs_background": "light"
     },
     "output_type": "display_data"
    },
    {
     "data": {
      "image/png": "[encoded data removed]",
      "text/plain": [
       "<Figure size 432x288 with 1 Axes>"
      ]
     },
     "metadata": {
      "needs_background": "light"
     },
     "output_type": "display_data"
    }
   ],
   "source": [
    "history = history.history\n",
    "plot_graph(history['val_loss'], history['loss'], 'Loss')\n",
    "plot_graph(history['val_accuracy'], history['accuracy'], 'Accuracy ')"
   ]
  },
  {
   "cell_type": "code",
   "execution_count": 26,
   "id": "42c890cc",
   "metadata": {},
   "outputs": [],
   "source": [
    "predicted_values = model.predict(prediction_data)"
   ]
  },
  {
   "cell_type": "code",
   "execution_count": 27,
   "id": "d01eb3ab",
   "metadata": {},
   "outputs": [],
   "source": [
    "counter = 0\n",
    "with (open('./digit-prediction3.csv', 'w')) as file:\n",
    "    writer = csv.writer(file)\n",
    "    writer.writerow(['ImageId', 'Label'])\n",
    "    for i in range(len(predicted_values)):\n",
    "        counter = counter + 1\n",
    "        writer.writerow([counter, np.argmax(predicted_values[i])])"
   ]
  },
  {
   "cell_type": "code",
   "execution_count": null,
   "id": "1a4a8015",
   "metadata": {},
   "outputs": [],
   "source": []
  },
  {
   "cell_type": "markdown",
   "id": "5b6ea2f8",
   "metadata": {},
   "source": [
    "#### Try scaling input parameters and re-model "
   ]
  },
  {
   "cell_type": "code",
   "execution_count": 28,
   "id": "f56d5c23",
   "metadata": {},
   "outputs": [],
   "source": [
    "from sklearn.preprocessing import StandardScaler"
   ]
  },
  {
   "cell_type": "code",
   "execution_count": 29,
   "id": "466de0ae",
   "metadata": {},
   "outputs": [],
   "source": [
    "standard_scaler = StandardScaler()"
   ]
  },
  {
   "cell_type": "code",
   "execution_count": 30,
   "id": "57544b4b",
   "metadata": {},
   "outputs": [],
   "source": [
    "Y = df['label']\n",
    "Y = to_categorical(Y)\n",
    "X = df.drop(columns=['label'])\n",
    "X = standard_scaler.fit_transform(X)"
   ]
  },
  {
   "cell_type": "code",
   "execution_count": 31,
   "id": "800e40b3",
   "metadata": {},
   "outputs": [
    {
     "data": {
      "text/plain": [
       "array([[0., 0., 0., ..., 0., 0., 0.],\n",
       "       [0., 0., 0., ..., 0., 0., 0.],\n",
       "       [0., 0., 0., ..., 0., 0., 0.],\n",
       "       ...,\n",
       "       [0., 0., 0., ..., 0., 0., 0.],\n",
       "       [0., 0., 0., ..., 0., 0., 0.],\n",
       "       [0., 0., 0., ..., 0., 0., 0.]])"
      ]
     },
     "execution_count": 31,
     "metadata": {},
     "output_type": "execute_result"
    }
   ],
   "source": [
    "X"
   ]
  },
  {
   "cell_type": "code",
   "execution_count": 32,
   "id": "7f81271e",
   "metadata": {},
   "outputs": [],
   "source": [
    "X_train, X_test, Y_train, Y_test = train_test_split(X, Y, test_size=0.20, random_state=42)"
   ]
  },
  {
   "cell_type": "code",
   "execution_count": 33,
   "id": "a5194266",
   "metadata": {},
   "outputs": [
    {
     "name": "stdout",
     "output_type": "stream",
     "text": [
      "Epoch 1/20\n",
      "2800/2800 [==============================] - 6s 2ms/step - loss: 0.6742 - categorical_accuracy: 0.7884 - val_loss: 0.2684 - val_categorical_accuracy: 0.9245\n",
      "Epoch 2/20\n",
      "2800/2800 [==============================] - 6s 2ms/step - loss: 0.4258 - categorical_accuracy: 0.8737 - val_loss: 0.2342 - val_categorical_accuracy: 0.9364\n",
      "Epoch 3/20\n",
      "2800/2800 [==============================] - 6s 2ms/step - loss: 0.3545 - categorical_accuracy: 0.8974 - val_loss: 0.1994 - val_categorical_accuracy: 0.9461\n",
      "Epoch 4/20\n",
      "2800/2800 [==============================] - 6s 2ms/step - loss: 0.3218 - categorical_accuracy: 0.9068 - val_loss: 0.1886 - val_categorical_accuracy: 0.9546\n",
      "Epoch 5/20\n",
      "2800/2800 [==============================] - 6s 2ms/step - loss: 0.2795 - categorical_accuracy: 0.9201 - val_loss: 0.1907 - val_categorical_accuracy: 0.9495\n",
      "Epoch 6/20\n",
      "2800/2800 [==============================] - 7s 2ms/step - loss: 0.2761 - categorical_accuracy: 0.9215 - val_loss: 0.1823 - val_categorical_accuracy: 0.9546\n",
      "Epoch 7/20\n",
      "2800/2800 [==============================] - 6s 2ms/step - loss: 0.2553 - categorical_accuracy: 0.9276 - val_loss: 0.1824 - val_categorical_accuracy: 0.9571\n",
      "Epoch 8/20\n",
      "2800/2800 [==============================] - 6s 2ms/step - loss: 0.2330 - categorical_accuracy: 0.9339 - val_loss: 0.1900 - val_categorical_accuracy: 0.9600\n",
      "Epoch 9/20\n",
      "2800/2800 [==============================] - 6s 2ms/step - loss: 0.2266 - categorical_accuracy: 0.9378 - val_loss: 0.1976 - val_categorical_accuracy: 0.9600\n",
      "Epoch 10/20\n",
      "2800/2800 [==============================] - 6s 2ms/step - loss: 0.2204 - categorical_accuracy: 0.9369 - val_loss: 0.1627 - val_categorical_accuracy: 0.9621\n",
      "Epoch 11/20\n",
      "2800/2800 [==============================] - 6s 2ms/step - loss: 0.2022 - categorical_accuracy: 0.9444 - val_loss: 0.1743 - val_categorical_accuracy: 0.9646\n",
      "Epoch 12/20\n",
      "2800/2800 [==============================] - 6s 2ms/step - loss: 0.2080 - categorical_accuracy: 0.9436 - val_loss: 0.1875 - val_categorical_accuracy: 0.9618\n",
      "Epoch 13/20\n",
      "2800/2800 [==============================] - 6s 2ms/step - loss: 0.1970 - categorical_accuracy: 0.9444 - val_loss: 0.1708 - val_categorical_accuracy: 0.9670\n",
      "Epoch 14/20\n",
      "2800/2800 [==============================] - 6s 2ms/step - loss: 0.1893 - categorical_accuracy: 0.9477 - val_loss: 0.1719 - val_categorical_accuracy: 0.9661\n",
      "Epoch 15/20\n",
      "2800/2800 [==============================] - 6s 2ms/step - loss: 0.1870 - categorical_accuracy: 0.9476 - val_loss: 0.1751 - val_categorical_accuracy: 0.9665\n",
      "Epoch 16/20\n",
      "2800/2800 [==============================] - 6s 2ms/step - loss: 0.1871 - categorical_accuracy: 0.9506 - val_loss: 0.1743 - val_categorical_accuracy: 0.9674\n",
      "Epoch 17/20\n",
      "2800/2800 [==============================] - 6s 2ms/step - loss: 0.1810 - categorical_accuracy: 0.9492 - val_loss: 0.1721 - val_categorical_accuracy: 0.9689\n",
      "Epoch 18/20\n",
      "2800/2800 [==============================] - 6s 2ms/step - loss: 0.1704 - categorical_accuracy: 0.9524 - val_loss: 0.1710 - val_categorical_accuracy: 0.9676\n",
      "Epoch 19/20\n",
      "2800/2800 [==============================] - 6s 2ms/step - loss: 0.1738 - categorical_accuracy: 0.9522 - val_loss: 0.1768 - val_categorical_accuracy: 0.9688\n",
      "Epoch 20/20\n",
      "2800/2800 [==============================] - 6s 2ms/step - loss: 0.1717 - categorical_accuracy: 0.9516 - val_loss: 0.1749 - val_categorical_accuracy: 0.9670\n"
     ]
    }
   ],
   "source": [
    "model = Sequential()\n",
    "model.add(Dense(units=512, activation='relu', input_shape=(784,)))\n",
    "model.add(Dropout(0.5))\n",
    "model.add(Dense(units=30, activation='relu'))\n",
    "# model.add(Dropout(0.7))\n",
    "model.add(Dense(units=10, activation='relu'))\n",
    "model.add(Dropout(0.2))\n",
    "model.add(Dense(units=10, activation='softmax'))\n",
    "model.compile(optimizer='adam', loss='categorical_crossentropy', metrics=['categorical_accuracy'])\n",
    "history = model.fit(X_train, Y_train, batch_size=12, validation_data=(X_test, Y_test), epochs=20)"
   ]
  },
  {
   "cell_type": "code",
   "execution_count": 34,
   "id": "b73b4510",
   "metadata": {},
   "outputs": [
    {
     "data": {
      "image/png": "[encoded data removed]",
      "text/plain": [
       "<Figure size 432x288 with 1 Axes>"
      ]
     },
     "metadata": {
      "needs_background": "light"
     },
     "output_type": "display_data"
    },
    {
     "data": {
      "image/png": "[encoded data removed]",
      "text/plain": [
       "<Figure size 432x288 with 1 Axes>"
      ]
     },
     "metadata": {
      "needs_background": "light"
     },
     "output_type": "display_data"
    }
   ],
   "source": [
    "history = history.history\n",
    "plot_graph(history['val_loss'], history['loss'], 'Loss')\n",
    "plot_graph(history['val_categorical_accuracy'], history['categorical_accuracy'], 'Accuracy ')"
   ]
  },
  {
   "cell_type": "code",
   "execution_count": 35,
   "id": "c6f4368a",
   "metadata": {},
   "outputs": [],
   "source": [
    "predicted_values = model.predict(prediction_data)\n",
    "\n",
    "counter = 0\n",
    "with (open('./digit-prediction4.csv', 'w')) as file:\n",
    "    writer = csv.writer(file)\n",
    "    writer.writerow(['ImageId', 'Label'])\n",
    "    for i in range(len(predicted_values)):\n",
    "        counter = counter + 1\n",
    "        writer.writerow([counter, np.argmax(predicted_values[i])])"
   ]
  },
  {
   "cell_type": "code",
   "execution_count": null,
   "id": "2dc31b5a",
   "metadata": {},
   "outputs": [],
   "source": []
  },
  {
   "cell_type": "code",
   "execution_count": null,
   "id": "b7f06681",
   "metadata": {},
   "outputs": [],
   "source": []
  },
  {
   "cell_type": "markdown",
   "id": "c5c5b732",
   "metadata": {},
   "source": [
    "#### This Talos implemnetation is commented as it did not have perofrm as expected and I could not train further at the moment"
   ]
  },
  {
   "cell_type": "code",
   "execution_count": 36,
   "id": "43c5236c",
   "metadata": {},
   "outputs": [],
   "source": [
    "import talos"
   ]
  },
  {
   "cell_type": "code",
   "execution_count": 37,
   "id": "9ed50529",
   "metadata": {},
   "outputs": [],
   "source": [
    "def mnst_model(x_train, y_train, x_val, y_val, params):\n",
    "    model = Sequential()\n",
    "    model.add(Dense(units=params['f_neuron'], activation=params['activation'], input_shape=(784,)))\n",
    "    model.add(Dropout(0.5))\n",
    "    model.add(Dense(units=params['s_neuron'], activation=params['activation']))\n",
    "    # model.add(Dropout(0.7))\n",
    "    model.add(Dense(units=params['t_neuron'], activation=params['activation']))\n",
    "    model.add(Dropout(0.2))\n",
    "    model.add(Dense(units=10, activation='softmax'))\n",
    "    model.compile(optimizer=params['optimizers'], loss='categorical_crossentropy', metrics=['categorical_accuracy'])\n",
    "    output = model.fit(X_train, Y_train, batch_size=params['batch_size'], validation_data=[x_val, y_val],\n",
    "              epochs=params['epochs'], verbose=0)\n",
    "    return output, model"
   ]
  },
  {
   "cell_type": "code",
   "execution_count": 38,
   "id": "95a711a8",
   "metadata": {},
   "outputs": [],
   "source": [
    "params = {'activation':['relu'],\n",
    "    'optimizers': ['Adam'],\n",
    "    'batch_size': (10, 40, 5),\n",
    "    'epochs': [10, 15, 20],\n",
    "    'f_neuron' : [64, 128, 256, 512],\n",
    "    's_neuron' : [64, 32, 16, 8],\n",
    "    't_neuron' : [30, 20, 10, 5],\n",
    "    }"
   ]
  },
  {
   "cell_type": "code",
   "execution_count": 39,
   "id": "9ab8f239",
   "metadata": {},
   "outputs": [],
   "source": [
    "# scan_obj = talos.Scan(X_train, Y_train, x_val=X_test, y_val=Y_test, params=params, model=mnst_model, experiment_name='nn')"
   ]
  },
  {
   "cell_type": "code",
   "execution_count": 40,
   "id": "7324fa91",
   "metadata": {},
   "outputs": [],
   "source": [
    "# scan_obj"
   ]
  },
  {
   "cell_type": "code",
   "execution_count": 41,
   "id": "9816981e",
   "metadata": {},
   "outputs": [],
   "source": [
    "# bestmodel = scan_obj.best_model(metric='categorical_accuracy')"
   ]
  },
  {
   "cell_type": "code",
   "execution_count": 42,
   "id": "0e824b07",
   "metadata": {},
   "outputs": [],
   "source": [
    "# bestmodel.summary()"
   ]
  },
  {
   "cell_type": "code",
   "execution_count": 43,
   "id": "bb52d124",
   "metadata": {},
   "outputs": [],
   "source": [
    "# from talos import Evaluate, Predict"
   ]
  },
  {
   "cell_type": "code",
   "execution_count": 44,
   "id": "b833645c",
   "metadata": {},
   "outputs": [],
   "source": [
    "# e = Evaluate(scan_obj)\n",
    "# e.evaluate(X_train, Y_train, asc=True, task='multi_label', metric='categorical_accuracy')"
   ]
  },
  {
   "cell_type": "code",
   "execution_count": 45,
   "id": "b779dc76",
   "metadata": {},
   "outputs": [],
   "source": [
    "# e = Evaluate(scan_obj)\n",
    "# e.evaluate(X_test, Y_test, asc=True, task='multi_label', metric='categorical_accuracy')"
   ]
  },
  {
   "cell_type": "code",
   "execution_count": 46,
   "id": "21dfec72",
   "metadata": {},
   "outputs": [],
   "source": [
    "# p = Predict(scan_obj)\n",
    "# predicted_values = p.predict(prediction_data, metric='categorical_accuracy', asc=True)"
   ]
  },
  {
   "cell_type": "code",
   "execution_count": 47,
   "id": "fb9413a5",
   "metadata": {},
   "outputs": [],
   "source": [
    "# counter = 0\n",
    "# with (open('./digit-prediction.csv', 'w')) as file:\n",
    "#     writer = csv.writer(file)\n",
    "#     writer.writerow(['ImageId', 'Label'])\n",
    "#     for i in range(len(predicted_values)):\n",
    "#         counter = counter + 1\n",
    "#         writer.writerow([counter, np.argmax(predicted_values[i])])"
   ]
  },
  {
   "cell_type": "code",
   "execution_count": 48,
   "id": "f4d41c28",
   "metadata": {},
   "outputs": [],
   "source": [
    "# bestmodel."
   ]
  },
  {
   "cell_type": "code",
   "execution_count": null,
   "id": "d369041c",
   "metadata": {},
   "outputs": [],
   "source": []
  }
 ],
 "metadata": {
  "kernelspec": {
   "display_name": "Python 3 (ipykernel)",
   "language": "python",
   "name": "python3"
  },
  "language_info": {
   "codemirror_mode": {
    "name": "ipython",
    "version": 3
   },
   "file_extension": ".py",
   "mimetype": "text/x-python",
   "name": "python",
   "nbconvert_exporter": "python",
   "pygments_lexer": "ipython3",
   "version": "3.9.9"
  }
 },
 "nbformat": 4,
 "nbformat_minor": 5
}
