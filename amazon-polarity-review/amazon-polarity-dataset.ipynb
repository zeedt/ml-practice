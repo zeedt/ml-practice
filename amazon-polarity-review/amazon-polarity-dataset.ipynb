{
 "cells": [
  {
   "cell_type": "markdown",
   "id": "5b2e555a",
   "metadata": {},
   "source": [
    "## Amazon Polarity Review "
   ]
  },
  {
   "cell_type": "markdown",
   "id": "fd48b210",
   "metadata": {},
   "source": [
    "##### The purpose of this piece of work is to compare Bag of Words model with embedding models on a relatively small dataset (60,000 records)"
   ]
  },
  {
   "cell_type": "code",
   "execution_count": null,
   "id": "9891b302",
   "metadata": {},
   "outputs": [],
   "source": []
  },
  {
   "cell_type": "code",
   "execution_count": 1,
   "id": "3492c5fd",
   "metadata": {},
   "outputs": [],
   "source": [
    "import pandas as pd\n",
    "import numpy as np\n",
    "from collections import Counter\n",
    "import nltk\n",
    "from tensorflow import keras\n",
    "from keras.preprocessing.text import Tokenizer\n",
    "from keras.models import Sequential, Layer\n",
    "from keras.layers import Dense, Input, Dropout, Embedding, Flatten, Conv1D, MaxPooling1D, GlobalMaxPooling1D\n",
    "import tensorflow as tf\n",
    "from gensim.models import KeyedVectors\n",
    "import matplotlib.pyplot as plt\n",
    "import fasttext\n",
    "import warnings\n",
    "from sklearn.metrics import roc_curve, roc_auc_score"
   ]
  },
  {
   "cell_type": "code",
   "execution_count": 2,
   "id": "bcd6bb16",
   "metadata": {},
   "outputs": [],
   "source": [
    "warnings.filterwarnings('ignore')"
   ]
  },
  {
   "cell_type": "markdown",
   "id": "e19aa677",
   "metadata": {},
   "source": [
    "#### Train the word representation for fast text using the first 1 billion wikipedia text"
   ]
  },
  {
   "cell_type": "code",
   "execution_count": 3,
   "id": "d9303f33",
   "metadata": {},
   "outputs": [],
   "source": [
    "model = fasttext.train_unsupervised('fastText-0.9.2/data/enwik9-text', dim=300)\n",
    "model.save_model(\"enwik9-model-300d.bin\")"
   ]
  },
  {
   "cell_type": "code",
   "execution_count": 4,
   "id": "1c35d9ca",
   "metadata": {},
   "outputs": [],
   "source": [
    "validation_accuracies = dict()\n",
    "models = dict()\n",
    "auc_scores = dict()"
   ]
  },
  {
   "cell_type": "code",
   "execution_count": 5,
   "id": "94b0bc55",
   "metadata": {},
   "outputs": [],
   "source": [
    "def plot_graph(history):\n",
    "    val_acc, train_acc, val_loss, train_loss = history['val_accuracy'],history['accuracy'], \\\n",
    "    history['val_loss'], history['loss']\n",
    "    plt.clf()\n",
    "    epochs = range(1, len(train_acc) + 1)\n",
    "    fig, ax = plt.subplots(1, 2, figsize=(12,6))\n",
    "    ax[0].plot(epochs, train_acc, color='red', label='Training Accuracy')\n",
    "    ax[0].plot(epochs, val_acc, color='blue', label='Validation Accuracy')\n",
    "    ax[0].set_xlabel('Epochs')\n",
    "    ax[0].set_ylabel('Accuracy')\n",
    "    ax[0].set_title('Training and validation Accuracy')\n",
    "    ax[0].legend()\n",
    "    ax[1].plot(epochs, train_loss, color='red', label='Training loss')\n",
    "    ax[1].plot(epochs, val_loss, color='blue', label='Validation loss')\n",
    "    ax[1].set_xlabel('Epochs')\n",
    "    ax[1].set_ylabel('Loss')\n",
    "    ax[1].set_title('Training and validation Loss')\n",
    "    ax[1].legend()\n",
    "    plt.show()"
   ]
  },
  {
   "cell_type": "code",
   "execution_count": 6,
   "id": "51fe73ff",
   "metadata": {},
   "outputs": [],
   "source": [
    "def prepare_dataframe():\n",
    "    train_df = pd.read_csv('amazon_review_polarity_csv/train.csv', \n",
    "                           nrows=45000, header=None) \n",
    "    test_df = pd.read_csv('amazon_review_polarity_csv/test.csv', \n",
    "                          nrows=15000, header=None)\n",
    "    train_df[0] = train_df[0].replace({1:0, 2:1})\n",
    "    test_df[0] = test_df[0].replace({1:0, 2:1})\n",
    "    ## Concatenate title and review\n",
    "    for i in train_df.index:\n",
    "        series = train_df.iloc[i]\n",
    "        train_df.at[i, 3] = f'{series[1]}. {series[2]}'\n",
    "    for i in test_df.index:\n",
    "        series = test_df.iloc[i]\n",
    "        test_df.at[i, 3] = f'{series[1]}. {series[2]}'\n",
    "    return train_df, test_df"
   ]
  },
  {
   "cell_type": "code",
   "execution_count": 7,
   "id": "21403dc6",
   "metadata": {},
   "outputs": [],
   "source": [
    "def load_doc(filename):\n",
    "    with(open(filename, 'r')) as file:\n",
    "        content = file.read()\n",
    "    return content\n",
    "\n",
    "def convert_sentence_to_word_list(sentence):\n",
    "    words = sentence.split()\n",
    "    words = [word for word in words]\n",
    "    return words\n",
    "\n",
    "def get_vocab_and_save_to_file():\n",
    "    vocab_counter = Counter()\n",
    "    words = []\n",
    "    for val in x_train:\n",
    "        words = convert_sentence_to_word_list(val)\n",
    "        vocab_counter.update(words)\n",
    "    min_count = 10\n",
    "    tokens = [k for k,c in vocab_counter.items() if c >= min_count]\n",
    "    print(len(tokens))\n",
    "    filename = 'vocabulary.txt'\n",
    "    with(open(filename, 'w')) as file:\n",
    "        data = '\\n'.join(tokens)\n",
    "        file.write(data)\n",
    "    return vocab_counter"
   ]
  },
  {
   "cell_type": "code",
   "execution_count": 8,
   "id": "f1bfb35f",
   "metadata": {},
   "outputs": [],
   "source": [
    "def get_tokens_from_sentence(sentence, vocab):\n",
    "    sentence = convert_sentence_to_word_list(sentence)\n",
    "    tokens = [word for word in sentence if word in vocab]\n",
    "    return ' '.join(tokens)\n",
    "\n",
    "def load_vocabulary(filename):\n",
    "    vocab = load_doc(filename)\n",
    "    vocab = vocab.split()\n",
    "    vocab = set(vocab)\n",
    "    return vocab"
   ]
  },
  {
   "cell_type": "code",
   "execution_count": 9,
   "id": "218e8c4c",
   "metadata": {},
   "outputs": [],
   "source": [
    "def get_tokenizer(data):\n",
    "    tokenizer = Tokenizer()\n",
    "    tokenizer.fit_on_texts(data)\n",
    "    return tokenizer\n",
    "\n",
    "def get_test_and_train_data_from_vocabulary(vocab):\n",
    "    train_data = []\n",
    "    for val in x_train:\n",
    "        train_data.append(get_tokens_from_sentence(val, vocab))\n",
    "    test_data = []\n",
    "    for val in x_test:\n",
    "        test_data.append(get_tokens_from_sentence(val, vocab))\n",
    "    return train_data, test_data"
   ]
  },
  {
   "cell_type": "code",
   "execution_count": 10,
   "id": "8abf820e",
   "metadata": {},
   "outputs": [],
   "source": [
    "def fit_with_bag_of_word_model(optimizer, tokenized_x_train, y_train, \n",
    "                               tokenized_x_test, y_test, epoch_size):\n",
    "    model = Sequential()\n",
    "    model.add(Dense(4, input_shape=(tokenized_x_train.shape[1],), activation='relu'))\n",
    "    model.add(Dense(8, activation='relu'))\n",
    "    model.add(Dropout(0.4))\n",
    "    model.add(Dense(1, activation='sigmoid'))\n",
    "    model.compile(optimizer=optimizer, loss=tf.keras.losses.BinaryCrossentropy(from_logits=True),\n",
    "                  metrics=['accuracy'])\n",
    "    history = model.fit(x=np.array(tokenized_x_train), y=np.array(y_train),\n",
    "                        validation_data=(np.array(tokenized_x_test),np.array(y_test)),\n",
    "                        epochs=epoch_size, batch_size=16, verbose=0,)\n",
    "    plot_graph(history.history)\n",
    "    val_accuracy = model.evaluate(np.array(tokenized_x_test),np.array(y_test))[1]*100\n",
    "    validation_accuracies['Bag of Words Model'] = val_accuracy\n",
    "    models['BOW'] = model\n",
    "    print(f'Validation accuracy => {val_accuracy}%')\n",
    "    return history"
   ]
  },
  {
   "cell_type": "code",
   "execution_count": 11,
   "id": "612e0d3b",
   "metadata": {},
   "outputs": [],
   "source": [
    "train_df, test_df = prepare_dataframe()"
   ]
  },
  {
   "cell_type": "code",
   "execution_count": 12,
   "id": "6e287ee9",
   "metadata": {},
   "outputs": [],
   "source": [
    "x_train, y_train, x_test, y_test = train_df[3], train_df[0], test_df[3], test_df[0]"
   ]
  },
  {
   "cell_type": "code",
   "execution_count": 13,
   "id": "639ebb4e",
   "metadata": {},
   "outputs": [
    {
     "name": "stdout",
     "output_type": "stream",
     "text": [
      "18398\n"
     ]
    }
   ],
   "source": [
    "vocab_counter = get_vocab_and_save_to_file()"
   ]
  },
  {
   "cell_type": "code",
   "execution_count": 14,
   "id": "b39d3a3b",
   "metadata": {},
   "outputs": [],
   "source": [
    "vocab = load_vocabulary('vocabulary.txt')"
   ]
  },
  {
   "cell_type": "code",
   "execution_count": 15,
   "id": "75e31556",
   "metadata": {},
   "outputs": [],
   "source": [
    "train_data, test_data = get_test_and_train_data_from_vocabulary(vocab)\n",
    "tokenizer = get_tokenizer(train_data)"
   ]
  },
  {
   "cell_type": "code",
   "execution_count": null,
   "id": "09123068",
   "metadata": {},
   "outputs": [],
   "source": []
  },
  {
   "cell_type": "markdown",
   "id": "cfec1311",
   "metadata": {},
   "source": [
    "### Bag of Words Model"
   ]
  },
  {
   "cell_type": "code",
   "execution_count": 16,
   "id": "b24e60b6",
   "metadata": {},
   "outputs": [],
   "source": [
    "tokenized_x_train = tokenizer.texts_to_matrix(train_data, mode='freq')\n",
    "tokenized_x_test = tokenizer.texts_to_matrix(test_data, mode='freq')"
   ]
  },
  {
   "cell_type": "code",
   "execution_count": 17,
   "id": "a1d62927",
   "metadata": {},
   "outputs": [],
   "source": [
    "num_words = tokenized_x_train.shape[1]"
   ]
  },
  {
   "cell_type": "code",
   "execution_count": 18,
   "id": "098e1e20",
   "metadata": {},
   "outputs": [
    {
     "name": "stdout",
     "output_type": "stream",
     "text": [
      "Number of words in vocabulary is  10320\n"
     ]
    }
   ],
   "source": [
    "print(\"Number of words in vocabulary is \", num_words)"
   ]
  },
  {
   "cell_type": "code",
   "execution_count": 19,
   "id": "ea9d5532",
   "metadata": {},
   "outputs": [
    {
     "name": "stderr",
     "output_type": "stream",
     "text": [
      "2022-05-01 14:51:32.029135: I tensorflow/core/platform/cpu_feature_guard.cc:151] This TensorFlow binary is optimized with oneAPI Deep Neural Network Library (oneDNN) to use the following CPU instructions in performance-critical operations:  AVX2 FMA\n",
      "To enable them in other operations, rebuild TensorFlow with the appropriate compiler flags.\n"
     ]
    },
    {
     "data": {
      "text/plain": [
       "<Figure size 432x288 with 0 Axes>"
      ]
     },
     "metadata": {},
     "output_type": "display_data"
    },
    {
     "data": {
      "image/png": "[encoded data removed]",
      "text/plain": [
       "<Figure size 864x432 with 2 Axes>"
      ]
     },
     "metadata": {
      "needs_background": "light"
     },
     "output_type": "display_data"
    },
    {
     "name": "stdout",
     "output_type": "stream",
     "text": [
      "469/469 [==============================] - 2s 4ms/step - loss: 0.2982 - accuracy: 0.8817\n",
      "Validation accuracy => 88.16666603088379%\n",
      "CPU times: user 3min 53s, sys: 42.7 s, total: 4min 35s\n",
      "Wall time: 3min 19s\n"
     ]
    },
    {
     "data": {
      "text/plain": [
       "<keras.callbacks.History at 0x7fea4630a850>"
      ]
     },
     "execution_count": 19,
     "metadata": {},
     "output_type": "execute_result"
    }
   ],
   "source": [
    "adam_optimizer = keras.optimizers.Adam(learning_rate=0.0001)\n",
    "%time fit_with_bag_of_word_model(adam_optimizer,tokenized_x_train, y_train, tokenized_x_test, y_test, 18) "
   ]
  },
  {
   "cell_type": "markdown",
   "id": "e098083d",
   "metadata": {},
   "source": [
    "### Embedding with Glove\n",
    "\n",
    "https://keras.io/examples/nlp/pretrained_word_embeddings/"
   ]
  },
  {
   "cell_type": "code",
   "execution_count": 20,
   "id": "37fe6fdf",
   "metadata": {},
   "outputs": [],
   "source": [
    "def load_embedding_index_from_glove():\n",
    "    embeddings_index = dict()\n",
    "    with (open('glove.6B/glove.6B.300d.txt', mode='rt', encoding='utf-8')) as f:\n",
    "        for line in f:\n",
    "            values = line.split()\n",
    "            word = values[0]\n",
    "            coefs = np.asarray(values[1:], dtype='float32')\n",
    "            embeddings_index[word] = coefs\n",
    "        f.close()\n",
    "    print('Loaded %s word vectors.' % len(embeddings_index))\n",
    "    return embeddings_index"
   ]
  },
  {
   "cell_type": "code",
   "execution_count": 21,
   "id": "a5649d49",
   "metadata": {},
   "outputs": [],
   "source": [
    "def get_embedding_matrix_from_glove_embedding(tokenizer, embeddings_index, tokens):\n",
    "    num_tokens = len(tokens) + 2\n",
    "    embedding_dim = 300\n",
    "    hits = 0\n",
    "    misses = 0\n",
    "    # Prepare embedding matrix\n",
    "    embedding_matrix = np.zeros((num_tokens, embedding_dim))\n",
    "    for word, i in tokenizer.word_index.items():\n",
    "        embedding_vector = embeddings_index.get(word)\n",
    "        if embedding_vector is not None:\n",
    "            # Words not found in embedding index will be all-zeros.\n",
    "            # This includes the representation for \"padding\" and \"OOV\"\n",
    "            embedding_matrix[i] = embedding_vector\n",
    "            hits += 1\n",
    "        else:\n",
    "            misses += 1\n",
    "    print(\"Converted %d words (%d misses)\" % (hits, misses))\n",
    "    return embedding_matrix"
   ]
  },
  {
   "cell_type": "code",
   "execution_count": 22,
   "id": "2cb2397c",
   "metadata": {},
   "outputs": [],
   "source": [
    "def fit_with_glove_embedding(embedding_layer, tokens, train_data, test_data, optimizer, epoch_size):\n",
    "    vectorize_layer = keras.layers.TextVectorization(output_mode='int', max_tokens = len(tokens)+2,\n",
    "                                                     pad_to_max_tokens=True, vocabulary=tokens)\n",
    "    vect_train = vectorize_layer(np.array([[s] for s in train_data])).numpy()\n",
    "    vect_test = vectorize_layer(np.array([[s] for s in test_data])).numpy()\n",
    "    int_sequences_input = keras.Input(shape=(None,), dtype=\"int64\")\n",
    "    embedded_sequences = embedding_layer(int_sequences_input)\n",
    "    x = Conv1D(32, 3, activation=\"relu\")(embedded_sequences)\n",
    "    x = MaxPooling1D(3)(x)\n",
    "    x = GlobalMaxPooling1D()(x)\n",
    "    x = Dense(8, activation=\"relu\")(x)\n",
    "    x = Dropout(0.3)(x)\n",
    "    preds = Dense(1, activation=\"sigmoid\")(x)\n",
    "    model = keras.Model(int_sequences_input, preds)\n",
    "    model.compile(loss=tf.keras.losses.BinaryCrossentropy(from_logits=True), optimizer=optimizer, \n",
    "                  metrics=[\"accuracy\"])\n",
    "    history = model.fit(vect_train, np.array(y_train), batch_size=32, epochs=epoch_size,\n",
    "              validation_data=(vect_test, np.array(y_test)), verbose=0)\n",
    "    plot_graph(history.history)\n",
    "    val_accuracy = model.evaluate(vect_test,np.array(y_test))[1]*100\n",
    "    validation_accuracies['Glove Embedding'] = val_accuracy\n",
    "    models['Glove'] = model\n",
    "    print(f'Validation accuracy => {val_accuracy}%')\n",
    "    return history"
   ]
  },
  {
   "cell_type": "code",
   "execution_count": 23,
   "id": "db8740a9",
   "metadata": {},
   "outputs": [
    {
     "name": "stdout",
     "output_type": "stream",
     "text": [
      "Loaded 400000 word vectors.\n"
     ]
    }
   ],
   "source": [
    "embeddings_index = load_embedding_index_from_glove()"
   ]
  },
  {
   "cell_type": "code",
   "execution_count": 24,
   "id": "5598a37e",
   "metadata": {},
   "outputs": [
    {
     "name": "stdout",
     "output_type": "stream",
     "text": [
      "Converted 9979 words (340 misses)\n"
     ]
    }
   ],
   "source": [
    "tokens = [k for k,c in vocab_counter.items() if c >= 10]\n",
    "embedding_matrix = get_embedding_matrix_from_glove_embedding(tokenizer, embeddings_index, tokens)\n",
    "embedding_layer = Embedding(len(tokens)+2, 300,\n",
    "                                 embeddings_initializer=keras.initializers.Constant(embedding_matrix),\n",
    "                                 trainable=False,)\n",
    "nadam_optimizer = keras.optimizers.Nadam(learning_rate=0.0001)"
   ]
  },
  {
   "cell_type": "code",
   "execution_count": 25,
   "id": "16bfc52b",
   "metadata": {},
   "outputs": [
    {
     "data": {
      "text/plain": [
       "<Figure size 432x288 with 0 Axes>"
      ]
     },
     "metadata": {},
     "output_type": "display_data"
    },
    {
     "data": {
      "image/png": "[encoded data removed]",
      "text/plain": [
       "<Figure size 864x432 with 2 Axes>"
      ]
     },
     "metadata": {
      "needs_background": "light"
     },
     "output_type": "display_data"
    },
    {
     "name": "stdout",
     "output_type": "stream",
     "text": [
      "469/469 [==============================] - 6s 13ms/step - loss: 0.3714 - accuracy: 0.8405\n",
      "Validation accuracy => 84.05333161354065%\n"
     ]
    }
   ],
   "source": [
    "history = fit_with_glove_embedding(embedding_layer, tokens, train_data,\n",
    "                                   test_data, nadam_optimizer, 20)"
   ]
  },
  {
   "cell_type": "code",
   "execution_count": null,
   "id": "e2bc4a18",
   "metadata": {},
   "outputs": [],
   "source": []
  },
  {
   "cell_type": "markdown",
   "id": "18ce66d3",
   "metadata": {},
   "source": [
    "### Embedding with word2vec"
   ]
  },
  {
   "cell_type": "code",
   "execution_count": 26,
   "id": "adb118ef",
   "metadata": {},
   "outputs": [],
   "source": [
    "filename = 'google-wordvec/GoogleNews-vectors-negative300.bin'\n",
    "gvector_index = KeyedVectors.load_word2vec_format(filename, binary=True)"
   ]
  },
  {
   "cell_type": "code",
   "execution_count": 27,
   "id": "8520167f",
   "metadata": {},
   "outputs": [],
   "source": [
    "def get_embedding_matrix_from_word2vec_embedding(tokenizer, gvector_index, tokens):\n",
    "    num_tokens = len(tokens) + 2\n",
    "    gembedding_dim = 300\n",
    "    hits = 0\n",
    "    misses = 0\n",
    "    # Prepare embedding matrix\n",
    "    gembedding_matrix = np.zeros((num_tokens, gembedding_dim))\n",
    "    for word, i in tokenizer.word_index.items():\n",
    "        gembedding_vector = None\n",
    "        try:\n",
    "            gembedding_vector = gvector_index.get_vector(word)\n",
    "        except:\n",
    "            pass\n",
    "        if gembedding_vector is not None:\n",
    "            # Words not found in embedding index will be all-zeros.\n",
    "            # This includes the representation for \"padding\" and \"OOV\"\n",
    "            gembedding_matrix[i] = gembedding_vector\n",
    "            hits += 1\n",
    "        else:\n",
    "            misses += 1\n",
    "    print(\"Converted %d words (%d misses)\" % (hits, misses))\n",
    "    return gembedding_matrix"
   ]
  },
  {
   "cell_type": "code",
   "execution_count": 28,
   "id": "42c95ecc",
   "metadata": {},
   "outputs": [],
   "source": [
    "def fit_with_word2vec_embedding(embedding_layer, tokens, train_data, test_data, optimizer, epoch_size):\n",
    "    vectorize_layer = keras.layers.TextVectorization(output_mode='int', max_tokens = len(tokens)+2, \n",
    "                                                 pad_to_max_tokens=True, vocabulary=tokens)\n",
    "    gvect_train = vectorize_layer(np.array([[s] for s in train_data])).numpy()\n",
    "    gvect_test = vectorize_layer(np.array([[s] for s in test_data])).numpy()\n",
    "    gint_sequences_input = keras.Input(shape=(None,), dtype=\"int64\")\n",
    "    gembedded_sequences = embedding_layer(gint_sequences_input)\n",
    "    x = Conv1D(32, 3, activation=\"relu\")(gembedded_sequences)\n",
    "    x = MaxPooling1D(3)(x)\n",
    "    x = GlobalMaxPooling1D()(x)\n",
    "    x = Dense(8, activation=\"relu\")(x)\n",
    "    x = Dropout(0.5)(x)\n",
    "    preds = Dense(1, activation=\"sigmoid\")(x)\n",
    "    gmodel = keras.Model(gint_sequences_input, preds)\n",
    "    gmodel.compile(loss=tf.keras.losses.BinaryCrossentropy(from_logits=True), optimizer=optimizer, \n",
    "                   metrics=[\"accuracy\"])\n",
    "    history = gmodel.fit(gvect_train, np.array(y_train), batch_size=32, epochs=epoch_size, \n",
    "               validation_data=(gvect_test, np.array(y_test)), verbose=0)\n",
    "    plot_graph(history.history)\n",
    "    val_accuracy = gmodel.evaluate(gvect_test,np.array(y_test))[1]*100\n",
    "    validation_accuracies['Word2Vec Embedding'] = val_accuracy\n",
    "    models['Word2Vec'] = gmodel\n",
    "    opt_name = optimizer.get_config()['name']\n",
    "    print(f'Validation accuracy for optimizer {opt_name} => {val_accuracy}%')\n",
    "    return history"
   ]
  },
  {
   "cell_type": "code",
   "execution_count": 29,
   "id": "bfa4f670",
   "metadata": {},
   "outputs": [
    {
     "name": "stdout",
     "output_type": "stream",
     "text": [
      "Converted 9695 words (624 misses)\n"
     ]
    }
   ],
   "source": [
    "gvector_index.init_sims(replace=True)\n",
    "gembedding_matrix = get_embedding_matrix_from_word2vec_embedding(tokenizer, gvector_index, tokens)\n",
    "gembedding_layer = Embedding(len(tokens)+2, 300, \n",
    "                             embeddings_initializer=keras.initializers.Constant(gembedding_matrix),\n",
    "                                  trainable=False,)\n",
    "nadam_optimizer = keras.optimizers.Nadam(learning_rate=0.0001)"
   ]
  },
  {
   "cell_type": "code",
   "execution_count": 30,
   "id": "f5900593",
   "metadata": {},
   "outputs": [
    {
     "data": {
      "text/plain": [
       "<Figure size 432x288 with 0 Axes>"
      ]
     },
     "metadata": {},
     "output_type": "display_data"
    },
    {
     "data": {
      "image/png": "[encoded data removed]",
      "text/plain": [
       "<Figure size 864x432 with 2 Axes>"
      ]
     },
     "metadata": {
      "needs_background": "light"
     },
     "output_type": "display_data"
    },
    {
     "name": "stdout",
     "output_type": "stream",
     "text": [
      "469/469 [==============================] - 10s 21ms/step - loss: 0.3716 - accuracy: 0.8507\n",
      "Validation accuracy for optimizer Nadam => 85.07333397865295%\n"
     ]
    }
   ],
   "source": [
    "history = fit_with_word2vec_embedding(gembedding_layer, tokens, train_data, \n",
    "                                      test_data, nadam_optimizer, 23)"
   ]
  },
  {
   "cell_type": "code",
   "execution_count": null,
   "id": "91a5f828",
   "metadata": {},
   "outputs": [],
   "source": []
  },
  {
   "cell_type": "markdown",
   "id": "ba6b2726",
   "metadata": {},
   "source": [
    "### FastText Word representation"
   ]
  },
  {
   "cell_type": "markdown",
   "id": "c2721eb9",
   "metadata": {},
   "source": [
    "##### Load my trained vector representation"
   ]
  },
  {
   "cell_type": "code",
   "execution_count": 31,
   "id": "f95a2f86",
   "metadata": {},
   "outputs": [
    {
     "name": "stderr",
     "output_type": "stream",
     "text": [
      "Warning : `load_model` does not return WordVectorModel or SupervisedModel any more, but a `FastText` object which is very similar.\n"
     ]
    }
   ],
   "source": [
    "fast_text_embeddings_index = fasttext.load_model('enwik9-model-300d.bin')"
   ]
  },
  {
   "cell_type": "code",
   "execution_count": 32,
   "id": "b17790c8",
   "metadata": {},
   "outputs": [],
   "source": [
    "def get_embedding_matrix_from_fast_text(tokenizer, embeddings_index, tokens):\n",
    "    num_tokens = len(tokens) + 2\n",
    "    embedding_dim = 300\n",
    "    hits = 0\n",
    "    misses = 0\n",
    "    # Prepare embedding matrix\n",
    "    embedding_matrix = np.zeros((num_tokens, embedding_dim))\n",
    "    for word, i in tokenizer.word_index.items():\n",
    "        embedding_vector = embeddings_index.get_word_vector(word)\n",
    "        if embedding_vector is not None:\n",
    "            # Words not found in embedding index will be all-zeros.\n",
    "            # This includes the representation for \"padding\" and \"OOV\"\n",
    "            embedding_matrix[i] = embedding_vector\n",
    "            hits += 1\n",
    "        else:\n",
    "            misses += 1\n",
    "    print(\"Converted %d words (%d misses)\" % (hits, misses))\n",
    "    return embedding_matrix"
   ]
  },
  {
   "cell_type": "code",
   "execution_count": 33,
   "id": "cd28d29f",
   "metadata": {},
   "outputs": [],
   "source": [
    "def fit_with_fast_text_embedding(embedding_layer, tokens, train_data, test_data, optimizer, epoch_size):\n",
    "    vectorize_layer = keras.layers.TextVectorization(output_mode='int', max_tokens = len(tokens)+2,\n",
    "                                                     pad_to_max_tokens=True, vocabulary=tokens)\n",
    "    vect_train = vectorize_layer(np.array([[s] for s in train_data])).numpy()\n",
    "    vect_test = vectorize_layer(np.array([[s] for s in test_data])).numpy()\n",
    "    int_sequences_input = keras.Input(shape=(None,), dtype=\"int64\")\n",
    "    embedded_sequences = embedding_layer(int_sequences_input)\n",
    "    x = Conv1D(32, 3, activation=\"relu\")(embedded_sequences)\n",
    "    x = MaxPooling1D(3)(x)\n",
    "    x = GlobalMaxPooling1D()(x)\n",
    "    x = Dense(8, activation=\"relu\")(x)\n",
    "    x = Dropout(0.3)(x)\n",
    "    preds = Dense(1, activation=\"sigmoid\")(x)\n",
    "    model = keras.Model(int_sequences_input, preds)\n",
    "    model.compile(loss=tf.keras.losses.BinaryCrossentropy(from_logits=True), optimizer=optimizer, \n",
    "                  metrics=[\"accuracy\"])\n",
    "    history = model.fit(vect_train, np.array(y_train), batch_size=32, epochs=epoch_size,\n",
    "              validation_data=(vect_test, np.array(y_test)), verbose=0)\n",
    "    plot_graph(history.history)\n",
    "    val_accuracy = model.evaluate(vect_test,np.array(y_test))[1]*100\n",
    "    validation_accuracies['FastText Embedding'] = val_accuracy\n",
    "    models['FastText'] = model\n",
    "    print(f'Validation accuracy => {val_accuracy}%')\n",
    "    return history"
   ]
  },
  {
   "cell_type": "code",
   "execution_count": 34,
   "id": "df0e5a59",
   "metadata": {},
   "outputs": [
    {
     "name": "stdout",
     "output_type": "stream",
     "text": [
      "Converted 10319 words (0 misses)\n"
     ]
    }
   ],
   "source": [
    "embedding_matrix = get_embedding_matrix_from_fast_text(tokenizer,\n",
    "                                                            fast_text_embeddings_index, tokens)\n",
    "embedding_layer = Embedding(len(tokens)+2, 300,\n",
    "                                 embeddings_initializer=keras.initializers.Constant(embedding_matrix),\n",
    "                                 trainable=False,)"
   ]
  },
  {
   "cell_type": "code",
   "execution_count": 35,
   "id": "21bee898",
   "metadata": {},
   "outputs": [
    {
     "data": {
      "text/plain": [
       "<Figure size 432x288 with 0 Axes>"
      ]
     },
     "metadata": {},
     "output_type": "display_data"
    },
    {
     "data": {
      "image/png": "[encoded data removed]",
      "text/plain": [
       "<Figure size 864x432 with 2 Axes>"
      ]
     },
     "metadata": {
      "needs_background": "light"
     },
     "output_type": "display_data"
    },
    {
     "name": "stdout",
     "output_type": "stream",
     "text": [
      "469/469 [==============================] - 9s 18ms/step - loss: 0.3703 - accuracy: 0.8335\n",
      "Validation accuracy => 83.35333466529846%\n"
     ]
    }
   ],
   "source": [
    "history = fit_with_fast_text_embedding(embedding_layer, tokens, train_data, \n",
    "                                      test_data, nadam_optimizer, 13)"
   ]
  },
  {
   "cell_type": "code",
   "execution_count": null,
   "id": "cecc24a7",
   "metadata": {},
   "outputs": [],
   "source": []
  },
  {
   "cell_type": "code",
   "execution_count": 36,
   "id": "c7d3ba81",
   "metadata": {},
   "outputs": [],
   "source": [
    "def calculate_roc_auc_score_and_visualise():\n",
    "    ## BOW\n",
    "    bow_prob = models['BOW'].predict(tokenized_x_test).tolist()\n",
    "    bow_fpr, bow_tpr,bow_threshold = roc_curve(y_test, bow_prob)\n",
    "    bow_auc_score = roc_auc_score(y_test, bow_prob)\n",
    "    ## Vectorize test data for embeddings\n",
    "    vectorize_layer = keras.layers.TextVectorization(output_mode='int', max_tokens = len(tokens)+2,\n",
    "                                                     pad_to_max_tokens=True, vocabulary=tokens)\n",
    "    vect_test = vectorize_layer(np.array([[s] for s in test_data])).numpy()\n",
    "    ## Glove\n",
    "    glove_prob = models['Glove'].predict(vect_test).tolist()\n",
    "    glove_fpr, glove_tpr,glove_threshold = roc_curve(y_test, glove_prob)\n",
    "    glove_auc_score = roc_auc_score(y_test, glove_prob)\n",
    "    ## Word2Vec\n",
    "    word2vec_prob = models['Word2Vec'].predict(vect_test).tolist()\n",
    "    word2vec_fpr, word2vec_tpr,word2vec_threshold = roc_curve(y_test, word2vec_prob)\n",
    "    word2vec_auc_score = roc_auc_score(y_test, word2vec_prob)\n",
    "    ## FastText\n",
    "    fasttext_prob = models['FastText'].predict(vect_test).tolist()\n",
    "    fasttext_fpr, fasttext_tpr,fasttext_threshold = roc_curve(y_test, fasttext_prob)\n",
    "    fasttext_auc_score = roc_auc_score(y_test, fasttext_prob)\n",
    "    ## Print scores\n",
    "    auc_scores['Bag of Words Model'] = bow_auc_score\n",
    "    auc_scores['Glove Embedding'] = glove_auc_score\n",
    "    auc_scores['Word2Vec Embedding'] = word2vec_auc_score\n",
    "    auc_scores['FastText Embedding'] = fasttext_auc_score\n",
    "    print(f\"ROC-AUC score for BOW is \", bow_auc_score)\n",
    "    print(f\"ROC-AUC score for Glove is \", glove_auc_score)\n",
    "    print(f\"ROC-AUC score for Word2vec is \", word2vec_auc_score)\n",
    "    print(f\"ROC-AUC score for FastText is \", fasttext_auc_score)\n",
    "    #### Plot ROC-AUC graph\n",
    "    plt.figure(figsize=(8,6))\n",
    "    plt.plot(bow_fpr, bow_tpr,color='green', label='BOW Model')\n",
    "    plt.plot(glove_fpr, glove_tpr,color='purple', label='Glove Model')\n",
    "    plt.plot(word2vec_fpr, word2vec_tpr,color='orange', label='Word2vec Model')\n",
    "    plt.plot(fasttext_fpr, fasttext_tpr,color='blue', label='FastText Model')\n",
    "    plt.title('ROC-AUC curve')\n",
    "    plt.xlabel('False Positive Rate')\n",
    "    plt.ylabel('True Positive rate')\n",
    "    plt.legend()\n",
    "    plt.show();"
   ]
  },
  {
   "cell_type": "code",
   "execution_count": null,
   "id": "59a40d93",
   "metadata": {},
   "outputs": [],
   "source": []
  },
  {
   "cell_type": "markdown",
   "id": "110f4355",
   "metadata": {},
   "source": [
    "#### ROC-AUC GRAPH"
   ]
  },
  {
   "cell_type": "code",
   "execution_count": 37,
   "id": "fecf9d6e",
   "metadata": {},
   "outputs": [
    {
     "name": "stdout",
     "output_type": "stream",
     "text": [
      "ROC-AUC score for BOW is  0.9486245298176333\n",
      "ROC-AUC score for Glove is  0.919626609867669\n",
      "ROC-AUC score for Word2vec is  0.9238266291747097\n",
      "ROC-AUC score for FastText is  0.9156757968390756\n"
     ]
    },
    {
     "data": {
      "image/png": "[encoded data removed]",
      "text/plain": [
       "<Figure size 576x432 with 1 Axes>"
      ]
     },
     "metadata": {
      "needs_background": "light"
     },
     "output_type": "display_data"
    }
   ],
   "source": [
    "calculate_roc_auc_score_and_visualise()"
   ]
  },
  {
   "cell_type": "code",
   "execution_count": null,
   "id": "f0e06502",
   "metadata": {},
   "outputs": [],
   "source": []
  },
  {
   "cell_type": "markdown",
   "id": "6baa1bbb",
   "metadata": {},
   "source": [
    "### Validation summary"
   ]
  },
  {
   "cell_type": "code",
   "execution_count": 38,
   "id": "172ae91a",
   "metadata": {},
   "outputs": [
    {
     "data": {
      "text/html": [
       "<div>\n",
       "<style scoped>\n",
       "    .dataframe tbody tr th:only-of-type {\n",
       "        vertical-align: middle;\n",
       "    }\n",
       "\n",
       "    .dataframe tbody tr th {\n",
       "        vertical-align: top;\n",
       "    }\n",
       "\n",
       "    .dataframe thead th {\n",
       "        text-align: right;\n",
       "    }\n",
       "</style>\n",
       "<table border=\"1\" class=\"dataframe\">\n",
       "  <thead>\n",
       "    <tr style=\"text-align: right;\">\n",
       "      <th></th>\n",
       "      <th>Validation Accuracy</th>\n",
       "    </tr>\n",
       "  </thead>\n",
       "  <tbody>\n",
       "    <tr>\n",
       "      <th>Bag of Words Model</th>\n",
       "      <td>88.166666</td>\n",
       "    </tr>\n",
       "    <tr>\n",
       "      <th>Glove Embedding</th>\n",
       "      <td>84.053332</td>\n",
       "    </tr>\n",
       "    <tr>\n",
       "      <th>Word2Vec Embedding</th>\n",
       "      <td>85.073334</td>\n",
       "    </tr>\n",
       "    <tr>\n",
       "      <th>FastText Embedding</th>\n",
       "      <td>83.353335</td>\n",
       "    </tr>\n",
       "  </tbody>\n",
       "</table>\n",
       "</div>"
      ],
      "text/plain": [
       "                    Validation Accuracy\n",
       "Bag of Words Model            88.166666\n",
       "Glove Embedding               84.053332\n",
       "Word2Vec Embedding            85.073334\n",
       "FastText Embedding            83.353335"
      ]
     },
     "execution_count": 38,
     "metadata": {},
     "output_type": "execute_result"
    }
   ],
   "source": [
    "pd.DataFrame(pd.Series(validation_accuracies), columns=['Validation Accuracy'])"
   ]
  },
  {
   "cell_type": "code",
   "execution_count": null,
   "id": "2fbcc934",
   "metadata": {},
   "outputs": [],
   "source": []
  },
  {
   "cell_type": "markdown",
   "id": "c93313cc",
   "metadata": {},
   "source": [
    "#### AUC summary"
   ]
  },
  {
   "cell_type": "code",
   "execution_count": 39,
   "id": "d74632bf",
   "metadata": {},
   "outputs": [
    {
     "data": {
      "text/html": [
       "<div>\n",
       "<style scoped>\n",
       "    .dataframe tbody tr th:only-of-type {\n",
       "        vertical-align: middle;\n",
       "    }\n",
       "\n",
       "    .dataframe tbody tr th {\n",
       "        vertical-align: top;\n",
       "    }\n",
       "\n",
       "    .dataframe thead th {\n",
       "        text-align: right;\n",
       "    }\n",
       "</style>\n",
       "<table border=\"1\" class=\"dataframe\">\n",
       "  <thead>\n",
       "    <tr style=\"text-align: right;\">\n",
       "      <th></th>\n",
       "      <th>AUC Score</th>\n",
       "    </tr>\n",
       "  </thead>\n",
       "  <tbody>\n",
       "    <tr>\n",
       "      <th>Bag of Words Model</th>\n",
       "      <td>0.948625</td>\n",
       "    </tr>\n",
       "    <tr>\n",
       "      <th>Glove Embedding</th>\n",
       "      <td>0.919627</td>\n",
       "    </tr>\n",
       "    <tr>\n",
       "      <th>Word2Vec Embedding</th>\n",
       "      <td>0.923827</td>\n",
       "    </tr>\n",
       "    <tr>\n",
       "      <th>FastText Embedding</th>\n",
       "      <td>0.915676</td>\n",
       "    </tr>\n",
       "  </tbody>\n",
       "</table>\n",
       "</div>"
      ],
      "text/plain": [
       "                    AUC Score\n",
       "Bag of Words Model   0.948625\n",
       "Glove Embedding      0.919627\n",
       "Word2Vec Embedding   0.923827\n",
       "FastText Embedding   0.915676"
      ]
     },
     "execution_count": 39,
     "metadata": {},
     "output_type": "execute_result"
    }
   ],
   "source": [
    "pd.DataFrame(pd.Series(auc_scores), columns=['AUC Score'])"
   ]
  },
  {
   "cell_type": "code",
   "execution_count": null,
   "id": "df7dfa25",
   "metadata": {},
   "outputs": [],
   "source": []
  }
 ],
 "metadata": {
  "kernelspec": {
   "display_name": "Python 3 (ipykernel)",
   "language": "python",
   "name": "python3"
  },
  "language_info": {
   "codemirror_mode": {
    "name": "ipython",
    "version": 3
   },
   "file_extension": ".py",
   "mimetype": "text/x-python",
   "name": "python",
   "nbconvert_exporter": "python",
   "pygments_lexer": "ipython3",
   "version": "3.9.7"
  }
 },
 "nbformat": 4,
 "nbformat_minor": 5
}
